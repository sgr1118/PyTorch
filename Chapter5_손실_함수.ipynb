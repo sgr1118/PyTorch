{
  "nbformat": 4,
  "nbformat_minor": 0,
  "metadata": {
    "colab": {
      "provenance": [],
      "authorship_tag": "ABX9TyOhGWJG3LNAYAbAesQ6Qq1Y",
      "include_colab_link": true
    },
    "kernelspec": {
      "name": "python3",
      "display_name": "Python 3"
    },
    "language_info": {
      "name": "python"
    }
  },
  "cells": [
    {
      "cell_type": "markdown",
      "metadata": {
        "id": "view-in-github",
        "colab_type": "text"
      },
      "source": [
        "<a href=\"https://colab.research.google.com/github/sgr1118/PyTorch/blob/main/Chapter5_%EC%86%90%EC%8B%A4_%ED%95%A8%EC%88%98.ipynb\" target=\"_parent\"><img src=\"https://colab.research.google.com/assets/colab-badge.svg\" alt=\"Open In Colab\"/></a>"
      ]
    },
    {
      "cell_type": "markdown",
      "source": [
        "## 5.1 평균 제곱 오차\n",
        "\n",
        "### 손실 값\n",
        "- 수식에서 모든 데이터의 입력에 대한 모방 출력과 실제 정답 사이 간 차이의 크기를 더한 것을 손실 값이라고 부른다. 따라서 손실 값이 작을수록 해당 모델은 근사 계산하고자 $f^*$를 잘 계산한다고 판단 할 수 있다.\n",
        "\n",
        "### 1. 손실 함수 선택\n",
        "\n",
        "#### L1\n",
        "- n차원 벡터의 각 요소들 사이의 차이에 대한 절댓 값을 모두 더한것\n",
        "\n",
        "#### L2\n",
        "- 두 점 사이의 거리를 계산하는 방법이다. 따라서 L2를 활용하면 정답과 모델 출력 사이의 거리를 최소화한다고 볼 수 있다. L2는 벡터의 각 요소들 간 차이에 대해 제곱을 구하여 모두 더한 것이다.\n",
        "\n",
        "#### RMSE\n",
        "- 제곱근 평균 제곱 오차는 L2와 유사하며 제곱근을 구하기 전 벡터의 차원 크기 n만큼 나누어 평균을 취한다.\n",
        "\n",
        "#### MSE\n",
        "- 평균 제곱 오차는 RMSE에서 제곱을 취한 것과 같기 때문에 훨씬 큰 값을 반환하게 된다. RMSE에서 상수인 n으로 나눴을 때도 문제가 없었듯 제곱의 함수 꼴은 여전히 단조증가 형태를 띠므로 값들의 차이 순서가 바뀌지 않아 문제가 되지 않는다.\n"
      ],
      "metadata": {
        "id": "fTlAOz5N0K2l"
      }
    },
    {
      "cell_type": "markdown",
      "source": [
        "## 5.2 MSE Loss\n",
        "\n",
        "MSE 손실 함수 공식\n",
        "\n",
        "- $$MSE = \\frac{1}{N*n}\\sum_{i=1}^N ||x_i - x_i^||_2^2$$"
      ],
      "metadata": {
        "id": "WW8HcKPAshoA"
      }
    },
    {
      "cell_type": "code",
      "execution_count": null,
      "metadata": {
        "id": "mETaKAKec24r"
      },
      "outputs": [],
      "source": [
        "# mse 공식 코드\n",
        "\n",
        "def mse(x_hat, x):\n",
        "    # x_hat = (bathc_size, dim)\n",
        "    # x = (batch_size, dim)\n",
        "\n",
        "    y = ((x-x_hat)**2).mean()\n",
        "\n",
        "    return y"
      ]
    },
    {
      "cell_type": "code",
      "source": [
        "# 텐서를 사용한 MSE 손실 함수값 구하기\n",
        "\n",
        "import torch\n",
        "\n",
        "x = torch.FloatTensor([[1,1],\n",
        "                       [2,2]])\n",
        "\n",
        "x_hat = torch.FloatTensor([[0,0],\n",
        "                       [0,0]])\n",
        "\n",
        "print(mse(x_hat, x))"
      ],
      "metadata": {
        "colab": {
          "base_uri": "https://localhost:8080/"
        },
        "id": "tNbxcNyFvzO3",
        "outputId": "e25b9cbb-bb88-4c33-a9ff-a937b0f8a356"
      },
      "execution_count": null,
      "outputs": [
        {
          "output_type": "stream",
          "name": "stdout",
          "text": [
            "tensor(2.5000)\n"
          ]
        }
      ]
    },
    {
      "cell_type": "markdown",
      "source": [
        "### 1. torch.nn.functional 사용하기\n",
        "\n",
        "MSE 손실 함수도 토치에서 기본 제공"
      ],
      "metadata": {
        "id": "OXxdUOYqwll2"
      }
    },
    {
      "cell_type": "code",
      "source": [
        "import torch.nn.functional as F\n",
        "F.mse_loss(x_hat, x)"
      ],
      "metadata": {
        "colab": {
          "base_uri": "https://localhost:8080/"
        },
        "id": "G8rAelG0wlLi",
        "outputId": "0f086cf2-a7a1-43b8-e33e-0c8ba529de6e"
      },
      "execution_count": null,
      "outputs": [
        {
          "output_type": "execute_result",
          "data": {
            "text/plain": [
              "tensor(2.5000)"
            ]
          },
          "metadata": {},
          "execution_count": 4
        }
      ]
    },
    {
      "cell_type": "markdown",
      "source": [
        "해당 함수는 reduction이라는 인자를 통해 MSE 손실 값을 구할 때 차원 감소 연산에 대한 설정이 가능\n",
        "\n",
        "sum과 none 등을 선택하여 원하는 대로 MSE 손실 함수의 출력값을 얻을 수 있습니다."
      ],
      "metadata": {
        "id": "xY_5qUpix4kB"
      }
    },
    {
      "cell_type": "code",
      "source": [
        "print(F.mse_loss(x_hat, x, reduction='sum'))\n",
        "\n",
        "print(F.mse_loss(x_hat, x, reduction='none'))\n"
      ],
      "metadata": {
        "colab": {
          "base_uri": "https://localhost:8080/"
        },
        "id": "EmdrW9C5yUoZ",
        "outputId": "d7774faf-5b73-48b9-ed34-963487802ec5"
      },
      "execution_count": null,
      "outputs": [
        {
          "output_type": "stream",
          "name": "stdout",
          "text": [
            "tensor(10.)\n",
            "tensor([[1., 1.],\n",
            "        [4., 4.]])\n"
          ]
        }
      ]
    },
    {
      "cell_type": "markdown",
      "source": [
        "### 2. torch.nn 사용하기\n",
        "- torch.nn.functional 이외에도 torch.nn을 활용할 수 있다. 두 방법의 차이는 없지만 이 방법을 사용하면 nn.Module의 하위 클래스 내부에 선언하기 때문에 계층의 하나처럼 취급할 수 있다."
      ],
      "metadata": {
        "id": "SsSU4qbeyiAS"
      }
    },
    {
      "cell_type": "code",
      "source": [
        "import torch.nn as nn\n",
        "mse_loss = nn.MSELoss()\n",
        "mse_loss(x_hat, x)"
      ],
      "metadata": {
        "colab": {
          "base_uri": "https://localhost:8080/"
        },
        "id": "vfUOVPSpyrms",
        "outputId": "56590585-6f12-4569-b9c5-2a9365d99d61"
      },
      "execution_count": null,
      "outputs": [
        {
          "output_type": "execute_result",
          "data": {
            "text/plain": [
              "tensor(2.5000)"
            ]
          },
          "metadata": {},
          "execution_count": 8
        }
      ]
    },
    {
      "cell_type": "markdown",
      "source": [
        "## 5.3 마치며\n",
        "\n",
        "### 요약\n",
        "\n",
        "1. 손실 함수가 필요한 이유\n",
        " - 신경망의 내부 가중치 파라미터를 조절하여 함수를 근사계산할 수 있음\n",
        " - 얼마나 잘 근사계산하는지 알아야 더 좋은 가중치 파라미터를 선택할 수 있음\n",
        " - 손실 값은 얼마나 잘 근사하는지 수치로 나타낸 것(낮을수록 좋음)\n",
        " - 선형 계층의 가중치 파라미터 변화에 따라 손실 값이 변할 것\n",
        " - 가중치 파라미터를 입력으로 받아 손실 값을 출력으로 반환하는 함수를 만들 수 있는데 이것이 손실 함수임\n",
        "\n",
        "2. 손실 함수\n",
        " - 입력 : 가중치 파라미터\n",
        " - 출력 : 손실 값 (계산 방법 : 각 샘플 별 손실 값(모델의 출력값과 정답의 차이)의 합)\n",
        " - 손실 함수 공식 내의 상수는 의미가 없음"
      ],
      "metadata": {
        "id": "hPcQWIWwzKzX"
      }
    }
  ]
}