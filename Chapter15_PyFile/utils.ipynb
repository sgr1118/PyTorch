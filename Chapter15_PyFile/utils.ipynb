{
  "nbformat": 4,
  "nbformat_minor": 0,
  "metadata": {
    "colab": {
      "provenance": []
    },
    "kernelspec": {
      "name": "python3",
      "display_name": "Python 3"
    },
    "language_info": {
      "name": "python"
    }
  },
  "cells": [
    {
      "cell_type": "code",
      "execution_count": null,
      "metadata": {
        "id": "xUR-A5ztFPLj"
      },
      "outputs": [],
      "source": [
        "import torch\n",
        "\n",
        "\n",
        "def load_mnist(is_train=True, flatten=True):\n",
        "    from torchvision import datasets, transforms\n",
        "\n",
        "    dataset = datasets.MNIST(\n",
        "        '../data', train=is_train, download=True,\n",
        "        transform=transforms.Compose([\n",
        "            transforms.ToTensor(),\n",
        "        ]),\n",
        "    )\n",
        "\n",
        "    x = dataset.data.float() / 255.\n",
        "    y = dataset.targets\n",
        "\n",
        "    if flatten:\n",
        "        x = x.view(x.size(0), -1)\n",
        "\n",
        "    return x, y\n",
        "\n",
        "\n",
        "def split_data(x, y, train_ratio=.8):\n",
        "    train_cnt = int(x.size(0) * train_ratio)\n",
        "    valid_cnt = x.size(0) - train_cnt\n",
        "\n",
        "    # 학습/검증 데이터셋 셔플\n",
        "    indices = torch.randperm(x.size(0))\n",
        "    x = torch.index_select(\n",
        "        x,\n",
        "        dim=0,\n",
        "        index=indices\n",
        "    ).split([train_cnt, valid_cnt], dim=0)\n",
        "    y = torch.index_select(\n",
        "        y,\n",
        "        dim=0,\n",
        "        index=indices\n",
        "    ).split([train_cnt, valid_cnt], dim=0)\n",
        "\n",
        "    return x, y\n",
        "\n",
        "# 사용자가 모델의 계층 개수만 정해주면 자동으로 등차수열을 적용하여 hidden_size 구하기\n",
        "def get_hidden_sizes(input_size, output_size, n_layers):\n",
        "    step_size = int((input_size - output_size) / n_layers)\n",
        "\n",
        "    hidden_sizes = []\n",
        "    current_size = input_size\n",
        "    for i in range(n_layers - 1):\n",
        "        hidden_sizes += [current_size - step_size]\n",
        "        current_size = hidden_sizes[-1]\n",
        "\n",
        "    return hidden_sizes"
      ]
    }
  ]
}