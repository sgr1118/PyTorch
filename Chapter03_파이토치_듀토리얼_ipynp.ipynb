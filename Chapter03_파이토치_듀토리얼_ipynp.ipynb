{
  "nbformat": 4,
  "nbformat_minor": 0,
  "metadata": {
    "colab": {
      "provenance": [],
      "authorship_tag": "ABX9TyMUJQRfaRIEnSl7+jzBvDl4",
      "include_colab_link": true
    },
    "kernelspec": {
      "name": "python3",
      "display_name": "Python 3"
    },
    "language_info": {
      "name": "python"
    }
  },
  "cells": [
    {
      "cell_type": "markdown",
      "metadata": {
        "id": "view-in-github",
        "colab_type": "text"
      },
      "source": [
        "<a href=\"https://colab.research.google.com/github/sgr1118/PyTorch/blob/main/Chapter03_%ED%8C%8C%EC%9D%B4%ED%86%A0%EC%B9%98_%EB%93%80%ED%86%A0%EB%A6%AC%EC%96%BC_ipynp.ipynb\" target=\"_parent\"><img src=\"https://colab.research.google.com/assets/colab-badge.svg\" alt=\"Open In Colab\"/></a>"
      ]
    },
    {
      "cell_type": "markdown",
      "source": [
        "## 3.4 텐서 기본 연산\n",
        "\n"
      ],
      "metadata": {
        "id": "z-98VrbHs3N0"
      }
    },
    {
      "cell_type": "code",
      "source": [
        "# 토치 불러오기\n",
        "\n",
        "import torch"
      ],
      "metadata": {
        "id": "MGQ_jLiYx60I"
      },
      "execution_count": null,
      "outputs": []
    },
    {
      "cell_type": "markdown",
      "source": [
        "### 1. 요소별 산술 연산\n",
        "\n",
        "a = [1 2  \n",
        "     3 4]\n",
        "\n",
        "b = [2 2  \n",
        "     3 3]\n",
        "는 다음과 같이 파이썬 코드로 나타낼 수 있다."
      ],
      "metadata": {
        "id": "SBU2uE_lyFJU"
      }
    },
    {
      "cell_type": "code",
      "source": [
        "a = torch.FloatTensor([[1,2], [3,4]])\n",
        "\n",
        "b = torch.FloatTensor([[2,2], [3,3]])"
      ],
      "metadata": {
        "id": "MeWkIOCFygDE"
      },
      "execution_count": null,
      "outputs": []
    },
    {
      "cell_type": "code",
      "source": [
        "# 행렬 덧셈\n",
        "\n",
        "a + b"
      ],
      "metadata": {
        "colab": {
          "base_uri": "https://localhost:8080/"
        },
        "id": "khVri79ly-YF",
        "outputId": "a079a075-9622-4451-8726-2e89fe3318df"
      },
      "execution_count": null,
      "outputs": [
        {
          "output_type": "execute_result",
          "data": {
            "text/plain": [
              "tensor([[3., 4.],\n",
              "        [6., 7.]])"
            ]
          },
          "metadata": {},
          "execution_count": 6
        }
      ]
    },
    {
      "cell_type": "code",
      "source": [
        "# a-b\n",
        "print(a-b)\n",
        "\n",
        "# a * b\n",
        "print(a*b)\n",
        "\n",
        "# a / b\n",
        "print(a/b)\n",
        "\n",
        "# a**b\n",
        "print(a**b)\n",
        "\n",
        "# a == b\n",
        "print(a == b)\n",
        "\n",
        "# a != b\n",
        "print(a != b)"
      ],
      "metadata": {
        "colab": {
          "base_uri": "https://localhost:8080/"
        },
        "id": "c_5TTIDizJIo",
        "outputId": "71dbc1a8-8600-4de6-90bd-47d624a2887a"
      },
      "execution_count": null,
      "outputs": [
        {
          "output_type": "stream",
          "name": "stdout",
          "text": [
            "tensor([[-1.,  0.],\n",
            "        [ 0.,  1.]])\n",
            "tensor([[ 2.,  4.],\n",
            "        [ 9., 12.]])\n",
            "tensor([[0.5000, 1.0000],\n",
            "        [1.0000, 1.3333]])\n",
            "tensor([[ 1.,  4.],\n",
            "        [27., 64.]])\n",
            "tensor([[False,  True],\n",
            "        [ True, False]])\n",
            "tensor([[ True, False],\n",
            "        [False,  True]])\n"
          ]
        }
      ]
    },
    {
      "cell_type": "markdown",
      "source": [
        "### 2. 인플레이스 연산\n",
        "\n",
        "- 앞에서 수행한 연산들의 결과 텐서는 메모리에 새롭게 할당됩니다. 빈 메모리의 공간에 결과 텐서가 할당되고 결과 텐서의 값이 위치하게 되는 것입니다. 하지만 지금부터 설명할 인플레이스 연산은 같은 산술 연산을 수행하지만 기존 텐서에 결과과 저장된다는 차이점이 있습니다."
      ],
      "metadata": {
        "id": "lz9xO_kfzpZl"
      }
    },
    {
      "cell_type": "code",
      "source": [
        "# a.mul(b)의 연산 결과\n",
        "\n",
        "print(a.mul(b))\n",
        "\n",
        "# a 출력해보기\n",
        "\n",
        "print(a)\n",
        "\n",
        "# a.mul의 연산 결과는 새로운 메모리에 할당되기 때문에 텐서 a를 출력하면 값은 그대로이다."
      ],
      "metadata": {
        "colab": {
          "base_uri": "https://localhost:8080/"
        },
        "id": "c-4EcH6B0LSN",
        "outputId": "497979e1-a960-4292-9590-ebafd19aba65"
      },
      "execution_count": null,
      "outputs": [
        {
          "output_type": "stream",
          "name": "stdout",
          "text": [
            "tensor([[  8.,  16.],\n",
            "        [ 81., 108.]])\n",
            "tensor([[ 4.,  8.],\n",
            "        [27., 36.]])\n"
          ]
        }
      ]
    },
    {
      "cell_type": "code",
      "source": [
        "# 인플레이스 연산들은 밑줄이 함수명 뒤에 붙어있는 것이 특징이다.\n",
        "# 따라서 곱셈 함수의 인플레이스 연산 함수는 mul_()으로 대응된다.\n",
        "\n",
        "print(a.mul_(b))\n",
        "\n",
        "print(a)"
      ],
      "metadata": {
        "colab": {
          "base_uri": "https://localhost:8080/"
        },
        "id": "ZQX_eorU6Djp",
        "outputId": "5e918326-22d4-4601-b5ad-2dd234d08021"
      },
      "execution_count": null,
      "outputs": [
        {
          "output_type": "stream",
          "name": "stdout",
          "text": [
            "tensor([[ 4.,  8.],\n",
            "        [27., 36.]])\n",
            "tensor([[ 4.,  8.],\n",
            "        [27., 36.]])\n"
          ]
        }
      ]
    },
    {
      "cell_type": "markdown",
      "source": [
        "### 3. 차원 축소 연산 : 합과 평균\n",
        "\n",
        "X = [[1 2] \n",
        "     [3 4]]\n",
        "다음과 같은 텐서 X가 있다고 가정한다."
      ],
      "metadata": {
        "id": "3j-hLIxh6ujW"
      }
    },
    {
      "cell_type": "code",
      "source": [
        "x = torch.FloatTensor([[1,2], [3,4]])"
      ],
      "metadata": {
        "id": "IwyDS1bD7FA_"
      },
      "execution_count": null,
      "outputs": []
    },
    {
      "cell_type": "code",
      "source": [
        "# dim = 0이면 첫 번째 차원을 이야기하는 것이므로 행렬의 세로축에 대해서 합 연산을 수행합니다.\n",
        "# 수식으로 표현하면 다음과 가이 표현될 수 있다. 수식에서 T표시는 행렬과 열을 바꿔 표현하는 전치 연산을 의미한다.\n",
        "\n",
        "print(x.sum(dim=0)) # 1 + 3, 2 + 4로 전치 연산이 수행됨\n",
        "\n",
        "\n",
        "print(x.sum(dim=-1)) # 1+2, 3+4로 연산 수행\n",
        "# dim = -1은 뒤에서 첫 번째 차원을 의미한다. 여기는 2개의 차원만 존재하기 때문에 dim = 1을 넣어준것과 같은 의미이다."
      ],
      "metadata": {
        "colab": {
          "base_uri": "https://localhost:8080/"
        },
        "id": "97T_3-EW7IgG",
        "outputId": "70a75cb4-0084-4322-fb9b-a773ac413892"
      },
      "execution_count": null,
      "outputs": [
        {
          "output_type": "stream",
          "name": "stdout",
          "text": [
            "tensor([4., 6.])\n",
            "tensor([3., 7.])\n"
          ]
        }
      ]
    },
    {
      "cell_type": "markdown",
      "source": [
        "### 4. 브로드캐스트 연산\n",
        "이전까지의 산술 연산들은 두 텐서의 크기가 같은 경우를 예시로 들었다. 그럼 크기가 다른 두 텐서를 가지고 산술 연산을 수행하면 어떻게 될까?"
      ],
      "metadata": {
        "id": "ObJZq5wK8j4T"
      }
    },
    {
      "cell_type": "code",
      "source": [
        "# 텐서 + 스칼라\n",
        "# 행렬 x의 각 요소에 모두 1이 더해진 것을 볼 수 있다. \n",
        "\n",
        "x = torch.FloatTensor([[1,2], [3,4]])\n",
        "y = 1\n",
        "\n",
        "z = x + y\n",
        "\n",
        "print(z, z.size())"
      ],
      "metadata": {
        "colab": {
          "base_uri": "https://localhost:8080/"
        },
        "id": "uGEnoxTV80ol",
        "outputId": "3e45a820-0cac-4885-befc-c08d39939bf3"
      },
      "execution_count": null,
      "outputs": [
        {
          "output_type": "stream",
          "name": "stdout",
          "text": [
            "tensor([[2., 3.],\n",
            "        [4., 5.]]) torch.Size([2, 2])\n"
          ]
        }
      ]
    },
    {
      "cell_type": "code",
      "source": [
        "# 텐서 + 벡터\n",
        "\n",
        "x = torch.FloatTensor([[1,2], [4,8]])\n",
        "\n",
        "y = torch.FloatTensor([3, \n",
        "                       5])\n",
        "\n",
        "print(x.size(), y.size())\n",
        "\n",
        "z = x+y\n",
        "\n",
        "print(z, z.size())"
      ],
      "metadata": {
        "colab": {
          "base_uri": "https://localhost:8080/"
        },
        "id": "WKDSNQkR9HFu",
        "outputId": "9d926906-7a93-4d62-cf79-e3a980584156"
      },
      "execution_count": null,
      "outputs": [
        {
          "output_type": "stream",
          "name": "stdout",
          "text": [
            "torch.Size([2, 2]) torch.Size([2])\n",
            "tensor([[ 4.,  7.],\n",
            "        [ 7., 13.]]) torch.Size([2, 2])\n"
          ]
        }
      ]
    },
    {
      "cell_type": "code",
      "source": [
        "# 텐서 + 텐서\n",
        "\n",
        "x = torch.FloatTensor([[[1,2]]])\n",
        "y = torch.FloatTensor([3, \n",
        "                       5])\n",
        "\n",
        "print(x.size(), y.size())\n",
        "\n",
        "z = x+y\n",
        "print(z, z.size())"
      ],
      "metadata": {
        "colab": {
          "base_uri": "https://localhost:8080/"
        },
        "id": "O_EsS-gC-Ido",
        "outputId": "01cab1ae-0bab-4c4e-8c86-68eb78edb8dd"
      },
      "execution_count": null,
      "outputs": [
        {
          "output_type": "stream",
          "name": "stdout",
          "text": [
            "torch.Size([1, 1, 2]) torch.Size([2])\n",
            "tensor([[[4., 7.]]]) torch.Size([1, 1, 2])\n"
          ]
        }
      ]
    },
    {
      "cell_type": "markdown",
      "source": [
        "## 3.5 텐서 형태 변환\n",
        "텐서의 전체 요소 개수는 유지한 채 모양을 바꾸는 방법을 알아보겠습니다."
      ],
      "metadata": {
        "id": "8eeJkt-8-5Ug"
      }
    },
    {
      "cell_type": "markdown",
      "source": [
        "### 1.View 함수"
      ],
      "metadata": {
        "id": "bxTVOIKe_B1O"
      }
    },
    {
      "cell_type": "code",
      "source": [
        "x = torch.FloatTensor([[[1,2],\n",
        "                        [3,4]],\n",
        "                       [[5,6],\n",
        "                        [7,8]],\n",
        "                       [[9,10],\n",
        "                        [11,12]]])\n",
        "\n",
        "print(x.size())\n",
        "\n",
        "print(x.view(12))\n",
        "\n",
        "print(x.view(3,4))\n",
        "\n",
        "print(x.view(3, 1, 4))"
      ],
      "metadata": {
        "colab": {
          "base_uri": "https://localhost:8080/"
        },
        "id": "9AsauCGX_IVn",
        "outputId": "2205020c-c480-475b-aea2-b0d3e216f878"
      },
      "execution_count": null,
      "outputs": [
        {
          "output_type": "stream",
          "name": "stdout",
          "text": [
            "torch.Size([3, 2, 2])\n",
            "tensor([ 1.,  2.,  3.,  4.,  5.,  6.,  7.,  8.,  9., 10., 11., 12.])\n",
            "tensor([[ 1.,  2.,  3.,  4.],\n",
            "        [ 5.,  6.,  7.,  8.],\n",
            "        [ 9., 10., 11., 12.]])\n",
            "tensor([[[ 1.,  2.,  3.,  4.]],\n",
            "\n",
            "        [[ 5.,  6.,  7.,  8.]],\n",
            "\n",
            "        [[ 9., 10., 11., 12.]]])\n"
          ]
        }
      ]
    },
    {
      "cell_type": "markdown",
      "source": [
        "만약 새로운 크기의 기존 텐서의 요소 개수와 맞지 않으면 오류가 발생한다. 하지만 view 함수에 인자를 넣어줄 때 -1을 활용하면 일일이 요소 개수를 맞추기 위해 노력할 필요가 없다. -1이 들어간 차원의 크기는 다른 차원의 값들을 곱하고 남은 필요한 값이 자동으로 채워지게 됩니다. 다음 코드를 통해 -1의 활용을 확인한다."
      ],
      "metadata": {
        "id": "DYtJtWnJ_6oh"
      }
    },
    {
      "cell_type": "code",
      "source": [
        "print(x.view(-1))\n",
        "\n",
        "print(x.view(3, -1))\n",
        "\n",
        "print(x.view(-1, 1, 4))"
      ],
      "metadata": {
        "colab": {
          "base_uri": "https://localhost:8080/"
        },
        "id": "k7wNdxkxAQyd",
        "outputId": "8b3b6072-c87e-47b1-b1c0-924f0ff6c66f"
      },
      "execution_count": null,
      "outputs": [
        {
          "output_type": "stream",
          "name": "stdout",
          "text": [
            "tensor([ 1.,  2.,  3.,  4.,  5.,  6.,  7.,  8.,  9., 10., 11., 12.])\n",
            "tensor([[ 1.,  2.,  3.,  4.],\n",
            "        [ 5.,  6.,  7.,  8.],\n",
            "        [ 9., 10., 11., 12.]])\n",
            "tensor([[[ 1.,  2.,  3.,  4.]],\n",
            "\n",
            "        [[ 5.,  6.,  7.,  8.]],\n",
            "\n",
            "        [[ 9., 10., 11., 12.]]])\n"
          ]
        }
      ]
    },
    {
      "cell_type": "markdown",
      "source": [
        "이떄 중요한 점은 view 함수의 결과 텐서 주소는 바뀌지 않는다는 것이다. 따라서 다음 코드에서 y의 값이 바뀐다면 x의 값도 바뀌게 됩니다."
      ],
      "metadata": {
        "id": "FN9VrCtkAd4W"
      }
    },
    {
      "cell_type": "code",
      "source": [
        "y = x.view(3,4)\n",
        "\n",
        "x.storage().data_ptr() == y.storage().data_ptr()"
      ],
      "metadata": {
        "colab": {
          "base_uri": "https://localhost:8080/"
        },
        "id": "P6sylN6CAwHh",
        "outputId": "b5e2b692-25c1-4b3d-e028-2cae823bd0ba"
      },
      "execution_count": null,
      "outputs": [
        {
          "output_type": "execute_result",
          "data": {
            "text/plain": [
              "True"
            ]
          },
          "metadata": {},
          "execution_count": 31
        }
      ]
    },
    {
      "cell_type": "markdown",
      "source": [
        "파이토치 텐서의 형태를 변환하는 함수는 view 이외에도 여러 함수가 있다. 사실 view 함수는 메모리 순차대로 선언된(contiguous) 텐서에 대해서만 동작합니다. 만약 해당 조건에 만족하지 않는다면 오류를 발생시킨다.\n",
        "\n",
        "[error]RuntimeError: view size is not compatible with input tensor's size and stride (at least one dimension spans across two contiguous subspaces). Use .reshape(...) instead.\n",
        "\n",
        "이런 상황에서 텐서 형태 변환을 진행하고 싶다면 contiguous함수를 호출한 후 view함수를 호출하면된다. contiguous 함수는 텐서를 새로운 메모리상의 인접한 주소에 인접한 값을 순서대로 할당해주는 함수입니다. 이미 메모리상에 원하는 형태로 존재한다면 새롭게 할당하지 않고 해당 텐서를 contiguous 함수의 결과값으로 그대로 반환합니다. 또는 오류 메시지에 써져 있는대로 reshape 함수를 활용할 수 있다. reshape 함수는 view 함수와 동일하게 동작하되 contiguous 함수와 view 함수를 순차적으로 호출한 것과 같다."
      ],
      "metadata": {
        "id": "0PkcQZM2A_kg"
      }
    },
    {
      "cell_type": "code",
      "source": [
        "print(x.reshape(3,4))\n",
        "\n",
        "# reshape는 contiguous 함수도 함께 호출한 것이기 때문에 결과 텐서의 주소가 이전 텐서와 다를 수 있다는 것에 유의하라."
      ],
      "metadata": {
        "colab": {
          "base_uri": "https://localhost:8080/"
        },
        "id": "j5UGGoIuEWUq",
        "outputId": "2b32b3c4-419b-41b8-e9a7-35a82aa0578e"
      },
      "execution_count": null,
      "outputs": [
        {
          "output_type": "stream",
          "name": "stdout",
          "text": [
            "tensor([[ 1.,  2.,  3.,  4.],\n",
            "        [ 5.,  6.,  7.,  8.],\n",
            "        [ 9., 10., 11., 12.]])\n"
          ]
        }
      ]
    },
    {
      "cell_type": "markdown",
      "source": [
        "### 2. Squeeze 함수\n",
        "\n",
        "Squeeze 함수는 차원의 크기가 1인 차원을 없애주는 역할을 합니다."
      ],
      "metadata": {
        "id": "bpr7nydGFzcK"
      }
    },
    {
      "cell_type": "code",
      "source": [
        "x = torch.FloatTensor([[[1,2],\n",
        "                        [3,4]]])\n",
        "print(x.size())\n",
        "\n",
        "print(x.squeeze(), x.squeeze().size())"
      ],
      "metadata": {
        "colab": {
          "base_uri": "https://localhost:8080/"
        },
        "id": "fwwKbRy4F3V1",
        "outputId": "22453125-2007-42e2-e4c5-e38459800f70"
      },
      "execution_count": null,
      "outputs": [
        {
          "output_type": "stream",
          "name": "stdout",
          "text": [
            "torch.Size([1, 2, 2])\n",
            "tensor([[1., 2.],\n",
            "        [3., 4.]]) torch.Size([2, 2])\n"
          ]
        }
      ]
    },
    {
      "cell_type": "markdown",
      "source": [
        "### 3. Unsqueeze 함수\n",
        "squeeze의 반대 역할을 수행하는 함수이다. 지정된 차원의 인덱스의 차원의 크기가 1인 차원을 삽입한다."
      ],
      "metadata": {
        "id": "pLVe5pxGI8Gh"
      }
    },
    {
      "cell_type": "code",
      "source": [
        "x = torch.FloatTensor([[1,2],\n",
        "                        [3,4]])\n",
        "print(x.size()) # [2,2] 행렬\n",
        "\n",
        "print(x.unsqueeze(1))\n",
        "\n",
        "print(x.unsqueeze(1).size())\n",
        "\n",
        "# print(x.unsqueeze(-1), x.unsqueeze(-1).size())\n",
        "\n",
        "# print(x.unsqueeze(2), x.unsqueeze(2).size())"
      ],
      "metadata": {
        "colab": {
          "base_uri": "https://localhost:8080/"
        },
        "id": "JJUgOcLGJXHX",
        "outputId": "13cbd101-41ae-41c5-a797-247f267f92d7"
      },
      "execution_count": null,
      "outputs": [
        {
          "output_type": "stream",
          "name": "stdout",
          "text": [
            "torch.Size([2, 2])\n",
            "tensor([[[1., 2.]],\n",
            "\n",
            "        [[3., 4.]]])\n",
            "torch.Size([2, 1, 2])\n"
          ]
        }
      ]
    },
    {
      "cell_type": "markdown",
      "source": [
        "## 3.6 텐서 자르기 & 붙이기"
      ],
      "metadata": {
        "id": "lI3jf0IrJ_AT"
      }
    },
    {
      "cell_type": "markdown",
      "source": [
        "### 1. 인덱싱과 슬라이싱"
      ],
      "metadata": {
        "id": "HnxCUBnBKGTd"
      }
    },
    {
      "cell_type": "code",
      "source": [
        "x = torch.FloatTensor([[[1,2],\n",
        "                        [3,4]],\n",
        "                       [[5,6],\n",
        "                        [7,8]],\n",
        "                       [[9,10],\n",
        "                        [11,12]]])\n",
        "\n",
        "print(x.size())"
      ],
      "metadata": {
        "colab": {
          "base_uri": "https://localhost:8080/"
        },
        "id": "zfYroPF7NiDL",
        "outputId": "90949247-c958-4da5-9ca1-e0b015a40c42"
      },
      "execution_count": null,
      "outputs": [
        {
          "output_type": "stream",
          "name": "stdout",
          "text": [
            "torch.Size([3, 2, 2])\n"
          ]
        }
      ]
    },
    {
      "cell_type": "code",
      "source": [
        "# 첫 번째 차원의 0번 인덱스만 슬라이싱하기\n",
        "\n",
        "print(x[0])\n",
        "\n",
        "# 뒤에서 첫 번째 차원의 인덱스만 슬라이싱하기\n",
        "\n",
        "print(x[-1])\n",
        "\n",
        "# 중간 차원에 대해서 슬라이싱하기\n",
        "\n",
        "print(x[:, 0])\n",
        "\n",
        "# 첫 번째 차원에서 인덱스 1 이상부터 2 이전까지의 부분을,\n",
        "# 두 번째 차원에서는 1 이상부터의 부분을 마지막 차원에서는 전부를 가져왔을 때의 크기를 반환\n",
        "\n",
        "print(x[1:2, 1:, :].size())"
      ],
      "metadata": {
        "colab": {
          "base_uri": "https://localhost:8080/"
        },
        "id": "a-3sINbONoEo",
        "outputId": "5aeb5c0e-0126-4146-8ed4-88fc8e7c4bd9"
      },
      "execution_count": null,
      "outputs": [
        {
          "output_type": "stream",
          "name": "stdout",
          "text": [
            "tensor([[1., 2.],\n",
            "        [3., 4.]])\n",
            "tensor([[ 9., 10.],\n",
            "        [11., 12.]])\n",
            "tensor([[ 1.,  2.],\n",
            "        [ 5.,  6.],\n",
            "        [ 9., 10.]])\n",
            "torch.Size([1, 1, 2])\n"
          ]
        }
      ]
    },
    {
      "cell_type": "markdown",
      "source": [
        "### 2. Split 함수\n",
        "텐서를 특정 차원에 대해서 원하는 크기로 잘라준다."
      ],
      "metadata": {
        "id": "aApGn45ePc2x"
      }
    },
    {
      "cell_type": "code",
      "source": [
        "x = torch.FloatTensor(10, 4)\n",
        "\n",
        "splits = x.split(4, dim=0)\n",
        "\n",
        "for s in splits:\n",
        "    print(s.size())"
      ],
      "metadata": {
        "colab": {
          "base_uri": "https://localhost:8080/"
        },
        "id": "ao9QQkbGPn0h",
        "outputId": "e4c1c790-70a6-4db7-fd73-b9d8dba1242d"
      },
      "execution_count": null,
      "outputs": [
        {
          "output_type": "stream",
          "name": "stdout",
          "text": [
            "torch.Size([4, 4])\n",
            "torch.Size([4, 4])\n",
            "torch.Size([2, 4])\n"
          ]
        }
      ]
    },
    {
      "cell_type": "markdown",
      "source": [
        "### 3. Chunk 함수\n",
        "split 함수는 개수에 상관 없이 원하는 크기로 나누었다면 크기에 상관 없이 원하는 개수로 나누는 기능을 가진건 Chunk이다."
      ],
      "metadata": {
        "id": "S1qz5CZ4P0PL"
      }
    },
    {
      "cell_type": "code",
      "source": [
        "x = torch.FloatTensor(8, 4)\n",
        "\n",
        "chunks = x.chunk(3, dim = 0)\n",
        "\n",
        "for c in chunks:\n",
        "    print(c.size())"
      ],
      "metadata": {
        "colab": {
          "base_uri": "https://localhost:8080/"
        },
        "id": "uhPYegf5QMpA",
        "outputId": "7f831ce5-b128-446e-94b7-9b0806bf1d2f"
      },
      "execution_count": null,
      "outputs": [
        {
          "output_type": "stream",
          "name": "stdout",
          "text": [
            "torch.Size([3, 4])\n",
            "torch.Size([3, 4])\n",
            "torch.Size([2, 4])\n"
          ]
        }
      ]
    },
    {
      "cell_type": "markdown",
      "source": [
        "### 4. Index Select 함수\n",
        "특정 차원에서 원하는 인덱스의 값만 취하는 함수"
      ],
      "metadata": {
        "id": "1l_VVqr7Q2IB"
      }
    },
    {
      "cell_type": "code",
      "source": [
        "x = torch.FloatTensor([[[1,1],\n",
        "                        [2,2]],\n",
        "                       [[3,3],\n",
        "                        [4,5]],\n",
        "                       [[5,5],\n",
        "                        [6,6]]])\n",
        "\n",
        "indice = torch.LongTensor([2,1])\n",
        "print(x.size())"
      ],
      "metadata": {
        "colab": {
          "base_uri": "https://localhost:8080/"
        },
        "id": "8t5sR1ZBQ9__",
        "outputId": "b7246293-43ad-4b0e-e872-98bb8a076232"
      },
      "execution_count": null,
      "outputs": [
        {
          "output_type": "stream",
          "name": "stdout",
          "text": [
            "torch.Size([3, 2, 2])\n"
          ]
        }
      ]
    },
    {
      "cell_type": "code",
      "source": [
        "y = x.index_select(dim=0, index = indice)\n",
        "print(y)\n",
        "print(y.size())"
      ],
      "metadata": {
        "colab": {
          "base_uri": "https://localhost:8080/"
        },
        "id": "J8bjfK6VRRTO",
        "outputId": "6421cb9e-e3a2-475c-d99e-af786e2df4c0"
      },
      "execution_count": null,
      "outputs": [
        {
          "output_type": "stream",
          "name": "stdout",
          "text": [
            "tensor([[[5., 5.],\n",
            "         [6., 6.]],\n",
            "\n",
            "        [[3., 3.],\n",
            "         [4., 5.]]])\n",
            "torch.Size([2, 2, 2])\n"
          ]
        }
      ]
    },
    {
      "cell_type": "markdown",
      "source": [
        "### 5. Concatenate 함수\n",
        "하나의 텐서가 아닌 여러 텐서를 하나의 텐서로 합치는 방법이다. 배열내의 두 개 이상의 텐서를 순서대로 합쳐서 하나의 텐서로 반환합니다. 물론 합쳐지기 위해서는 다른 차원들의 크기가 같아야한다."
      ],
      "metadata": {
        "id": "4lIlUrCGRg0c"
      }
    },
    {
      "cell_type": "code",
      "source": [
        "x = torch.FloatTensor([[1,2,3],\n",
        "                       [4,5,6],\n",
        "                       [7,8,9]])\n",
        "\n",
        "y = torch.FloatTensor([[10,11,12],\n",
        "                       [13,14,15],\n",
        "                       [16,17,18]])\n",
        "\n",
        "print(x.size(), y.size())\n",
        "\n",
        "z = torch.cat([x,y], dim=0)\n",
        "\n",
        "print(z)\n",
        "\n",
        "print(z.size())"
      ],
      "metadata": {
        "colab": {
          "base_uri": "https://localhost:8080/"
        },
        "id": "-BrYCRoTUc8I",
        "outputId": "058223f2-e0f0-4cd2-a69a-5283dc242d89"
      },
      "execution_count": null,
      "outputs": [
        {
          "output_type": "stream",
          "name": "stdout",
          "text": [
            "torch.Size([3, 3]) torch.Size([3, 3])\n",
            "tensor([[ 1.,  2.,  3.],\n",
            "        [ 4.,  5.,  6.],\n",
            "        [ 7.,  8.,  9.],\n",
            "        [10., 11., 12.],\n",
            "        [13., 14., 15.],\n",
            "        [16., 17., 18.]])\n",
            "torch.Size([6, 3])\n"
          ]
        }
      ]
    },
    {
      "cell_type": "code",
      "source": [
        "z = torch.cat([x,y], dim=-1) # 마지막 차원으로 텐서를 이어 붙이기\n",
        "\n",
        "print(z)\n",
        "\n",
        "print(z.size())"
      ],
      "metadata": {
        "colab": {
          "base_uri": "https://localhost:8080/"
        },
        "id": "i7XMz3V5VKxi",
        "outputId": "0421ad79-ff92-491d-d66b-d144ce35e186"
      },
      "execution_count": null,
      "outputs": [
        {
          "output_type": "stream",
          "name": "stdout",
          "text": [
            "tensor([[ 1.,  2.,  3., 10., 11., 12.],\n",
            "        [ 4.,  5.,  6., 13., 14., 15.],\n",
            "        [ 7.,  8.,  9., 16., 17., 18.]])\n",
            "torch.Size([3, 6])\n"
          ]
        }
      ]
    },
    {
      "cell_type": "markdown",
      "source": [
        "### 6. Stack 함수\n",
        "cat 함수와 비슷한 역할을 수행하지만 이어 붙이는 작업이 아닌 쌓는 작업을 수행한다."
      ],
      "metadata": {
        "id": "sHAqKbJTXb1b"
      }
    },
    {
      "cell_type": "code",
      "source": [
        "z = torch.stack([x,y])\n",
        "print(z)\n",
        "\n",
        "print(z.size())"
      ],
      "metadata": {
        "colab": {
          "base_uri": "https://localhost:8080/"
        },
        "id": "m7mjID-RYHZY",
        "outputId": "9f660f3a-78a4-496d-9db2-945462a5f203"
      },
      "execution_count": null,
      "outputs": [
        {
          "output_type": "stream",
          "name": "stdout",
          "text": [
            "tensor([[[ 1.,  2.,  3.],\n",
            "         [ 4.,  5.,  6.],\n",
            "         [ 7.,  8.,  9.]],\n",
            "\n",
            "        [[10., 11., 12.],\n",
            "         [13., 14., 15.],\n",
            "         [16., 17., 18.]]])\n",
            "torch.Size([2, 3, 3])\n"
          ]
        }
      ]
    },
    {
      "cell_type": "code",
      "source": [
        "z = torch.stack([x,y], dim=-1)\n",
        "\n",
        "print(z)\n",
        "\n",
        "print(z.size())"
      ],
      "metadata": {
        "colab": {
          "base_uri": "https://localhost:8080/"
        },
        "id": "9gNjzIb7YRJB",
        "outputId": "3e6f06ac-8750-46c8-bc40-005d99224cff"
      },
      "execution_count": null,
      "outputs": [
        {
          "output_type": "stream",
          "name": "stdout",
          "text": [
            "tensor([[[ 1., 10.],\n",
            "         [ 2., 11.],\n",
            "         [ 3., 12.]],\n",
            "\n",
            "        [[ 4., 13.],\n",
            "         [ 5., 14.],\n",
            "         [ 6., 15.]],\n",
            "\n",
            "        [[ 7., 16.],\n",
            "         [ 8., 17.],\n",
            "         [ 9., 18.]]])\n",
            "torch.Size([3, 3, 2])\n"
          ]
        }
      ]
    },
    {
      "cell_type": "markdown",
      "source": [
        "stack  함수는 새로운 차원을 만든 뒤에 cat 함수를 수행한 것과 같다. unsqueeze 함수와 cat 함수를 써서 똑같이 구현이 가능하다."
      ],
      "metadata": {
        "id": "hCuYZfEAYpXs"
      }
    },
    {
      "cell_type": "code",
      "source": [
        "d = 0\n",
        "z = torch.cat([x.unsqueeze(d), y.unsqueeze(d)], dim = d)\n",
        "\n",
        "print(z)\n",
        "\n",
        "print(z.size())"
      ],
      "metadata": {
        "colab": {
          "base_uri": "https://localhost:8080/"
        },
        "id": "P0UvPPHdY3Fu",
        "outputId": "39bd1a2d-d742-4e77-db63-365e5f6a9a57"
      },
      "execution_count": null,
      "outputs": [
        {
          "output_type": "stream",
          "name": "stdout",
          "text": [
            "tensor([[[ 1.,  2.,  3.],\n",
            "         [ 4.,  5.,  6.],\n",
            "         [ 7.,  8.,  9.]],\n",
            "\n",
            "        [[10., 11., 12.],\n",
            "         [13., 14., 15.],\n",
            "         [16., 17., 18.]]])\n",
            "torch.Size([2, 3, 3])\n"
          ]
        }
      ]
    },
    {
      "cell_type": "markdown",
      "source": [
        "### 7. 유용한 팁\n",
        "cat 함수나 stack 함수는 실전에서 매우 유용하게 활용될 때가 많다. 특히 여러 이터레이션을 돌며 반복되는 작업을 수행한 후 반복 작업의 결과물을 하나로 합치는데 사용된다."
      ],
      "metadata": {
        "id": "ug5jMoTyZadv"
      }
    },
    {
      "cell_type": "code",
      "source": [
        "result = [] # 빈 리스트 생성\n",
        "\n",
        "for i in range(5):\n",
        "    x = torch.FloatTensor(2,2)\n",
        "    result += [x]\n",
        "    \n",
        "result = torch.stack(result)\n",
        "result"
      ],
      "metadata": {
        "colab": {
          "base_uri": "https://localhost:8080/"
        },
        "id": "J89Yj4URZprg",
        "outputId": "acf0dbfc-a400-4960-a054-a603b77cb641"
      },
      "execution_count": null,
      "outputs": [
        {
          "output_type": "execute_result",
          "data": {
            "text/plain": [
              "tensor([[[1.3180e-33, 0.0000e+00],\n",
              "         [3.3631e-44, 0.0000e+00]],\n",
              "\n",
              "        [[1.3039e-33, 0.0000e+00],\n",
              "         [3.9236e-44, 0.0000e+00]],\n",
              "\n",
              "        [[1.3039e-33, 0.0000e+00],\n",
              "         [0.0000e+00, 0.0000e+00]],\n",
              "\n",
              "        [[1.3041e-33, 0.0000e+00],\n",
              "         [0.0000e+00, 0.0000e+00]],\n",
              "\n",
              "        [[1.3040e-33, 0.0000e+00],\n",
              "         [1.3372e-33, 0.0000e+00]]])"
            ]
          },
          "metadata": {},
          "execution_count": 56
        }
      ]
    },
    {
      "cell_type": "markdown",
      "source": [
        "## 3.7 유용한 함수들"
      ],
      "metadata": {
        "id": "R-D9L_XzaIlR"
      }
    },
    {
      "cell_type": "markdown",
      "source": [
        "### 1. Expand 함수\n",
        "expand 함수는 차원의 크기가 1인 차원을 원하는 크기로 늘려주는 함수"
      ],
      "metadata": {
        "id": "riK76ESsaLlb"
      }
    },
    {
      "cell_type": "code",
      "source": [
        "x = torch.FloatTensor([[[1,2]],\n",
        "                      [[3,4]]])\n",
        "\n",
        "print(x.size())"
      ],
      "metadata": {
        "colab": {
          "base_uri": "https://localhost:8080/"
        },
        "id": "TtTjSuFwaSg7",
        "outputId": "3cc8dda0-a629-470b-8288-9361c056e218"
      },
      "execution_count": null,
      "outputs": [
        {
          "output_type": "stream",
          "name": "stdout",
          "text": [
            "torch.Size([2, 1, 2])\n"
          ]
        }
      ]
    },
    {
      "cell_type": "code",
      "source": [
        "y = x.expand(2,3,2)\n",
        "\n",
        "print(y)\n",
        "\n",
        "print(y.size())"
      ],
      "metadata": {
        "colab": {
          "base_uri": "https://localhost:8080/"
        },
        "id": "mjz9F6x2bitM",
        "outputId": "43b45d7b-7c40-48d9-e790-29d187dcd2a9"
      },
      "execution_count": null,
      "outputs": [
        {
          "output_type": "stream",
          "name": "stdout",
          "text": [
            "tensor([[[1., 2.],\n",
            "         [1., 2.],\n",
            "         [1., 2.]],\n",
            "\n",
            "        [[3., 4.],\n",
            "         [3., 4.],\n",
            "         [3., 4.]]])\n",
            "torch.Size([2, 3, 2])\n"
          ]
        }
      ]
    },
    {
      "cell_type": "markdown",
      "source": [
        "### 2. Random Permutation 함수\n",
        "randperm 함수는 랜덤 수열을 생성하는 파이토치 함수이다. 딥러닝은 랜덤성에 의존하는 부분이 많기 때문에 필요에 따라 이 함수를 활용할 수 있다. 다음 코드에서 볼 수 있듯이 randperm 함수의 인자로 숫자를 넣어주면 1부터 해당 숫자까지의 정수를 임의로 순서로 텐서에 넣어 반환합니다."
      ],
      "metadata": {
        "id": "GuZftiKgbxHi"
      }
    },
    {
      "cell_type": "code",
      "source": [
        "x = torch.randperm(10)\n",
        "print(x)"
      ],
      "metadata": {
        "colab": {
          "base_uri": "https://localhost:8080/"
        },
        "id": "z61tR7GycW4W",
        "outputId": "565a983b-c775-4d98-9f25-d0e348d80b69"
      },
      "execution_count": null,
      "outputs": [
        {
          "output_type": "stream",
          "name": "stdout",
          "text": [
            "tensor([8, 6, 4, 2, 5, 9, 1, 3, 0, 7])\n"
          ]
        }
      ]
    },
    {
      "cell_type": "markdown",
      "source": [
        "### 3. Argument Max 함수\n",
        "argmax 함수는 수식에서도 많이 활용된다. set X에서 뽑을 수 있는 x 값 중에 함수 f의 출력값을 최대로 만드는 입력을 반환하는 함수입니다. 중요한 점은 f의 최댓값을 반환하는 것이 아니라 f를 최대로 만드는 x값을 반환한다는 것이다. "
      ],
      "metadata": {
        "id": "ZNnE9DJ1cc88"
      }
    },
    {
      "cell_type": "code",
      "source": [
        "x = torch.randperm(3**3).reshape(3,3,-1)\n",
        "\n",
        "print(x)\n",
        "\n",
        "y = x.argmax(dim=-1)\n",
        "print(y)"
      ],
      "metadata": {
        "colab": {
          "base_uri": "https://localhost:8080/"
        },
        "id": "iv7X4-lFdq7s",
        "outputId": "02f00ac2-57bf-4e58-8638-ea7614d168d5"
      },
      "execution_count": null,
      "outputs": [
        {
          "output_type": "stream",
          "name": "stdout",
          "text": [
            "tensor([[[ 7, 22, 19],\n",
            "         [ 3,  8, 25],\n",
            "         [ 2,  6, 15]],\n",
            "\n",
            "        [[ 0, 20,  1],\n",
            "         [12, 18,  5],\n",
            "         [11, 13, 14]],\n",
            "\n",
            "        [[ 4, 21, 16],\n",
            "         [ 9, 23, 24],\n",
            "         [10, 17, 26]]])\n",
            "tensor([[1, 2, 2],\n",
            "        [1, 1, 2],\n",
            "        [1, 2, 2]])\n"
          ]
        }
      ]
    },
    {
      "cell_type": "markdown",
      "source": [
        "### 4. Top-k 함수\n",
        "이번에는 argmax의 상위 호환 버젼인 topk이다. 앞의 argmax는 가장 큰 한 개의 값의 인덱스를 반환하는 것이었다면 topk 함수는 가장 큰 k개의 값과 인덱스를 모두 반환한다."
      ],
      "metadata": {
        "id": "_fUesYRoeYTf"
      }
    },
    {
      "cell_type": "code",
      "source": [
        "values, indices = torch.topk(x, k = 1, dim = -1)\n",
        "print(values.size())\n",
        "\n",
        "print(indices.size())"
      ],
      "metadata": {
        "colab": {
          "base_uri": "https://localhost:8080/"
        },
        "id": "8l83fP-feqAR",
        "outputId": "89c9256d-26ed-405d-979b-c65966806815"
      },
      "execution_count": null,
      "outputs": [
        {
          "output_type": "stream",
          "name": "stdout",
          "text": [
            "torch.Size([3, 3, 1])\n",
            "torch.Size([3, 3, 1])\n"
          ]
        }
      ]
    },
    {
      "cell_type": "markdown",
      "source": [
        "topk 함수는 상위 kr개 값과 인덱스를 모두 반환하기 때문에 반환 값을 튜플로 받는다. 현재는 k = 1이므로 values, indices의 마지막 차원의 크기가 1로 되어있다. 만약 k를 1보다 더 큰 값을 쓸 경우 반환되는 텐서의 크기는 다음과 같다."
      ],
      "metadata": {
        "id": "SsG_e4fQe3nB"
      }
    },
    {
      "cell_type": "code",
      "source": [
        "_, indices = torch.topk(x, k=2, dim=-1)\n",
        "print(indices.size())"
      ],
      "metadata": {
        "colab": {
          "base_uri": "https://localhost:8080/"
        },
        "id": "htNNHYYXfMlG",
        "outputId": "ea668605-bb4a-41d7-8ad8-e22a9fe42d55"
      },
      "execution_count": null,
      "outputs": [
        {
          "output_type": "stream",
          "name": "stdout",
          "text": [
            "torch.Size([3, 3, 2])\n"
          ]
        }
      ]
    },
    {
      "cell_type": "markdown",
      "source": [
        "### 5. Sort 함수\n",
        "앞서 선언한 텐서 x를 원하는 차원 기준으로 정렬 후 k개를 뽑아오는 함수이다."
      ],
      "metadata": {
        "id": "FqygrjEIiczH"
      }
    },
    {
      "cell_type": "code",
      "source": [
        "t = -1\n",
        "values, indices = torch.topk(x, k = x.size(t), largest = True) # 결과물 내림차순 정렬\n",
        "\n",
        "print(values)"
      ],
      "metadata": {
        "colab": {
          "base_uri": "https://localhost:8080/"
        },
        "id": "Pjrv9Jlximi6",
        "outputId": "9a2b31f1-8cf7-4a7a-eea5-6cea681a50b4"
      },
      "execution_count": null,
      "outputs": [
        {
          "output_type": "stream",
          "name": "stdout",
          "text": [
            "tensor([[[22, 19,  7],\n",
            "         [25,  8,  3],\n",
            "         [15,  6,  2]],\n",
            "\n",
            "        [[20,  1,  0],\n",
            "         [18, 12,  5],\n",
            "         [14, 13, 11]],\n",
            "\n",
            "        [[21, 16,  4],\n",
            "         [24, 23,  9],\n",
            "         [26, 17, 10]]])\n"
          ]
        }
      ]
    },
    {
      "cell_type": "markdown",
      "source": [
        "### 6. Masked Fill 함수\n",
        "텐서 내의 원하는 부분만 특정 값으로 바꿔치기하는 함수인 masked_fill"
      ],
      "metadata": {
        "id": "ClM9qRskjBAc"
      }
    },
    {
      "cell_type": "code",
      "source": [
        "x = torch.FloatTensor([i for i in range(3**2)]).reshape(3,-1)\n",
        "print(x)\n",
        "\n",
        "print(x.size())"
      ],
      "metadata": {
        "colab": {
          "base_uri": "https://localhost:8080/"
        },
        "id": "1KVvgSGOjTW1",
        "outputId": "1d170fa4-a6e8-4770-b60b-e3c023a6bab9"
      },
      "execution_count": null,
      "outputs": [
        {
          "output_type": "stream",
          "name": "stdout",
          "text": [
            "tensor([[0., 1., 2.],\n",
            "        [3., 4., 5.],\n",
            "        [6., 7., 8.]])\n",
            "torch.Size([3, 3])\n"
          ]
        }
      ]
    },
    {
      "cell_type": "code",
      "source": [
        "mask = x > 4\n",
        "print(mask)"
      ],
      "metadata": {
        "colab": {
          "base_uri": "https://localhost:8080/"
        },
        "id": "win-9pX3jiU4",
        "outputId": "0aff61aa-9add-4097-959a-f5d18bb24981"
      },
      "execution_count": null,
      "outputs": [
        {
          "output_type": "stream",
          "name": "stdout",
          "text": [
            "tensor([[False, False, False],\n",
            "        [False, False,  True],\n",
            "        [ True,  True,  True]])\n"
          ]
        }
      ]
    },
    {
      "cell_type": "markdown",
      "source": [
        "### 7. Ones & Zeros 함수\n",
        "ones 함수와 zeros 함수를 통해 쉽게 구현할 수 있습니다 "
      ],
      "metadata": {
        "id": "FYOTRtajjnZD"
      }
    },
    {
      "cell_type": "code",
      "source": [
        "print(torch.ones(2,3))\n",
        "\n",
        "print(torch.zeros(2,3))\n",
        "\n",
        "# ones_like와 zeros_like\n",
        "\n",
        "x = torch.FloatTensor([[1,2,3],\n",
        "                      [4,5,6]])\n",
        "\n",
        "print(torch.ones_like(x))\n",
        "\n",
        "print(torch.zeros_like(x))"
      ],
      "metadata": {
        "colab": {
          "base_uri": "https://localhost:8080/"
        },
        "id": "yG_8bXkKkoOk",
        "outputId": "2b3b4386-fe3e-4ecd-8676-2b719ac6c34c"
      },
      "execution_count": null,
      "outputs": [
        {
          "output_type": "stream",
          "name": "stdout",
          "text": [
            "tensor([[1., 1., 1.],\n",
            "        [1., 1., 1.]])\n",
            "tensor([[0., 0., 0.],\n",
            "        [0., 0., 0.]])\n",
            "tensor([[1., 1., 1.],\n",
            "        [1., 1., 1.]])\n",
            "tensor([[0., 0., 0.],\n",
            "        [0., 0., 0.]])\n"
          ]
        }
      ]
    }
  ]
}