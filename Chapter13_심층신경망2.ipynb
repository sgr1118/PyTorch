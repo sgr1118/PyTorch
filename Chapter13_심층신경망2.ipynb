{
  "nbformat": 4,
  "nbformat_minor": 0,
  "metadata": {
    "colab": {
      "provenance": [],
      "authorship_tag": "ABX9TyPtcK5lpoeCylhFHhCHiam/",
      "include_colab_link": true
    },
    "kernelspec": {
      "name": "python3",
      "display_name": "Python 3"
    },
    "language_info": {
      "name": "python"
    }
  },
  "cells": [
    {
      "cell_type": "markdown",
      "metadata": {
        "id": "view-in-github",
        "colab_type": "text"
      },
      "source": [
        "<a href=\"https://colab.research.google.com/github/sgr1118/PyTorch/blob/main/Chapter13_%EC%8B%AC%EC%B8%B5%EC%8B%A0%EA%B2%BD%EB%A7%9D2.ipynb\" target=\"_parent\"><img src=\"https://colab.research.google.com/assets/colab-badge.svg\" alt=\"Open In Colab\"/></a>"
      ]
    },
    {
      "cell_type": "markdown",
      "source": [
        "## 13.1 이진 분류\n",
        "\n",
        "### 1. 로지스틱 회귀 복습\n",
        "- 8장 노트북 파일 참고\n",
        "\n",
        "### 2. 심층신경망을 활용한 이진 분류\n",
        "\n",
        "- 기존 $f_\\theta$를 심층신경망으로 교체하면 된다. DNN을 구성하고 마지막에 소프트맥스 함수를 씌워준다.\n",
        "\n",
        "![](https://kh-kim.github.io/nlp_with_deep_learning_blog/assets/images/1-13/01-dnn_binary_classifier.png)\n",
        "<center></center>\n",
        "\n",
        "- 이후에 모델을 $f_\\theta$로 삼아 기존 이진 분류 학습 방식에 집어 넣는다.\n",
        "\n",
        "![](https://kh-kim.github.io/nlp_with_deep_learning_blog/assets/images/1-13/01-dnn_binary_classification.png)\n",
        "<center></center>\n",
        "\n",
        "- BCE 손실 함수를 미분할 때 체인 룰을 통해 역전파가 적용되고 각 가중치 파라미터별로 GD가 적용되는 것을 제외하면 모든 동작이 똑같다.\n",
        "\n"
      ],
      "metadata": {
        "id": "yNEiAiP95v33"
      }
    },
    {
      "cell_type": "markdown",
      "source": [
        "## 13.2 DNN의 학습\n",
        "\n",
        "### 1. 임곗값 설정과 그에 따른 상충 문제\n",
        "- 시그모이드 함수에 의한 참/거짓을 판별할 때는 0.5를 기준으로 하였다. 하지만 경우에 따라 클래스 임계값이 하이퍼 파라미터가 되기도한다.\n",
        "\n",
        "![](https://kh-kim.github.io/nlp_with_deep_learning_blog/assets/images/1-13/02-score_dist.png)\n",
        "<center>이진 분류기를 통한 출력값</center>\n",
        "\n",
        "- 위 그림은 이진 분류기를 통한 출력값이다. 빨간색 분포는 원래 정답이 참인 샘플의 모젤 출력값, 초록색 분포는 정답이 거짓인 샘플들의 모델 출력 값이다. 보시다싶이 일부 겹치는 구간이 확인된다.\n",
        "\n",
        "- 이런 경우 해소자고자하는 문제에 따라 임계값을 설정할 필요가있다. 만약 참 클래스를 하나라도 놓치면 안되는 문제라면 임계값을 최대한 왼쪽으로 보내야한다.또는 참 클래스는 잘못 예측하는 것이 치명적인 상황이라면 임계값을 최대한 오른쪽으로 보내야한다.\n",
        "\n",
        "- 임계값을 설정하기 위한 정책은 우리가 풀고자 하는 문제의 성격을 따른다.\n",
        "\n",
        "### 2. 정답과 예측에 따른 명칭\n",
        "![](https://kh-kim.github.io/nlp_with_deep_learning_blog/assets/images/1-13/02-binary_confusion_matrix.png)\n",
        "<center>이진 분류기를 통한 출력값</center>\n",
        "- 모델이 1로 예측한다면 양성, 0으로 예측한다면 음성이라고 부르도록하겠다. 표를 참고해서 TP, FP, FN, TN 개념을 익히도록하자\n",
        "\n",
        "\n",
        "### 3. 정확도 그리고 정밀도와 재현율\n",
        "- 정확도는 전체 예측 중 실제로 맞춘 참의 개수 비율을 나타낸다. 정확도는 데이터 셋의 클래스가 불균형할 경우 모델의 성능을 정확하게 반영하지 못한다. 이때 우리가 고려하는 것은 정밀도, 재현율이다.\n",
        "\n",
        "- 정밀도는 모델이 양성이라고 예측한 개수 중 실제로 양성인 경우다. 재현율은 실제로 양성 중에서 모델이 실제로 맞춘 양성인 경우다. 임계값 설정에 이 두 값은 상충된다. 같은 모델 안에서 임곗값을 바꾸게 되면 정밀도와 재현율이 서로 반대로 움직이는 것을 확인할 수 있다.\n",
        "\n",
        "### 4. F1 점수\n",
        "- 여러 측정 지표가 상존할 때 1개의 총점을 낼 수 있는 방법이다. F1은 임곗값이 고정되어 있을 때 정밀도와 재현율을 기반으로 계산된다. 만약 모델이 다양한 모델에 적용되어 임곗값이 달라진다면 F1도 바뀔것이다.\n",
        "\n",
        "- $F1-Socre = 2 \\cdot \\frac{재현율 \\cdot 정밀도}{재현율 + 정밀도}$ \n",
        "\n",
        "### 5. AUROC\n",
        "- 바로 앞같은 상황에서 필요한 방법이다. 변화하는 임곗값에 따른 모델의 성능을 알고싶기 때문이다. \n",
        "\n",
        "![](https://kh-kim.github.io/nlp_with_deep_learning_blog/assets/images/1-13/02-auroc.png)\n",
        "<center>검증 데이터셋에대한 모델 출력값의 분포와 AUROC를 통한 성능 평가</center>\n",
        "\n",
        "- 왼쪽 그래프는 검증 데이터셋에 대한 모델 출력값이다. 겹치는 구간이 적을 수록 모델이 구분을 잘 해낸 것이다.\n",
        "\n",
        "- AUROC를 구하는 방법은 다음과 같다. 임곗값을 움직이며 TP, FP의 비율을 계산하고 주황색 선처럼 표시한다. 이 주황색 선 아래 구간의 넓이가 auroc라고 한다. 모델이 좋은 성능을 가질수록 주황색 선이 좌상단에 꼭짓점에 가까이 붙게된다. 반대로 성능이 좋지않을 경우 파란색 점선에 가까워진다."
      ],
      "metadata": {
        "id": "qvSiHoHP7lUA"
      }
    },
    {
      "cell_type": "markdown",
      "source": [
        "## 13.3 Deep Binary Classification"
      ],
      "metadata": {
        "id": "gRamtA7kTd2W"
      }
    },
    {
      "cell_type": "code",
      "execution_count": 1,
      "metadata": {
        "id": "Uknw5Ij32Nwi"
      },
      "outputs": [],
      "source": [
        "# 라이브러리 불러오기\n",
        "\n",
        "import numpy as np\n",
        "import pandas as pd\n",
        "import seaborn as sns\n",
        "import matplotlib.pyplot as plt\n",
        "from copy import deepcopy\n",
        "from sklearn.preprocessing import StandardScaler\n",
        "\n",
        "# 데이터 셋 불러오기\n",
        "\n",
        "from sklearn.datasets import load_breast_cancer\n",
        "cancer = load_breast_cancer()\n",
        "\n",
        "#print(cancer.DESCR)\n",
        "\n",
        "# 보스턴 데이터 df\n",
        "\n",
        "df = pd.DataFrame(cancer.data, columns = cancer.feature_names)\n",
        "df['class'] = cancer.target"
      ]
    },
    {
      "cell_type": "code",
      "source": [
        "import torch\n",
        "import torch.nn as nn\n",
        "import torch.nn.functional as F\n",
        "import torch.optim as optim\n",
        "\n",
        "# Numpy 데이터를 파이토치 실수형 텐서로 변환\n",
        "\n",
        "data = torch.from_numpy(df.values).float()\n",
        "\n",
        "# 입력 x와 출력 y로 나눈기\n",
        "\n",
        "x = data[:, :-1]\n",
        "y = data[:, -1:]\n",
        "print(x.shape, y.shape)"
      ],
      "metadata": {
        "colab": {
          "base_uri": "https://localhost:8080/"
        },
        "id": "QfVcCd_nZkuR",
        "outputId": "c3e4b682-da2e-4b54-8f54-d4a165191e47"
      },
      "execution_count": 2,
      "outputs": [
        {
          "output_type": "stream",
          "name": "stdout",
          "text": [
            "torch.Size([569, 30]) torch.Size([569, 1])\n"
          ]
        }
      ]
    },
    {
      "cell_type": "code",
      "source": [
        "# 데이터 셋 나누기\n",
        "ratios = [.6, .2, .2] \n",
        "\n",
        "train_cnt = int(data.size(0) * ratios[0])\n",
        "valid_cnt = int(data.size(0) * ratios[1])\n",
        "test_cnt = data.size(0) - (train_cnt + valid_cnt)\n",
        "cnts = [train_cnt, valid_cnt, test_cnt]\n",
        "\n",
        "print('Train %d / Valid %d / Test %d samples.' %(train_cnt, valid_cnt, test_cnt))"
      ],
      "metadata": {
        "colab": {
          "base_uri": "https://localhost:8080/"
        },
        "id": "QSxkuwcqZn22",
        "outputId": "b62bb786-1311-4344-e296-a303318b99e4"
      },
      "execution_count": 3,
      "outputs": [
        {
          "output_type": "stream",
          "name": "stdout",
          "text": [
            "Train 341 / Valid 113 / Test 115 samples.\n"
          ]
        }
      ]
    },
    {
      "cell_type": "code",
      "source": [
        "# 랜덤 샘플링 수행\n",
        "\n",
        "indices = torch.randperm(data.size(0))\n",
        "\n",
        "x = torch.index_select(x, dim = 0, index = indices)\n",
        "y = torch.index_select(y, dim = 0, index = indices)\n",
        "\n",
        "x = x.split(cnts, dim = 0)\n",
        "y = y.split(cnts, dim = 0)\n",
        "\n",
        "for x_i, y_i in zip(x, y):\n",
        "    print(x_i.size(), y_i.size())"
      ],
      "metadata": {
        "colab": {
          "base_uri": "https://localhost:8080/"
        },
        "id": "-3jRRV2bZy8L",
        "outputId": "f8be2393-fd41-47c3-c815-090a46d1731a"
      },
      "execution_count": 4,
      "outputs": [
        {
          "output_type": "stream",
          "name": "stdout",
          "text": [
            "torch.Size([341, 30]) torch.Size([341, 1])\n",
            "torch.Size([113, 30]) torch.Size([113, 1])\n",
            "torch.Size([115, 30]) torch.Size([115, 1])\n"
          ]
        }
      ]
    },
    {
      "cell_type": "code",
      "source": [
        "# 데이터 셋 정규화\n",
        "\n",
        "scaler = StandardScaler()\n",
        "scaler.fit(x[0].numpy()) # 반드시 학습 데이터만 정규화\n",
        "\n",
        "x = [torch.from_numpy(scaler.transform(x[0].numpy())).float(),\n",
        "     torch.from_numpy(scaler.transform(x[1].numpy())).float(),\n",
        "     torch.from_numpy(scaler.transform(x[2].numpy())).float()]"
      ],
      "metadata": {
        "id": "fzxwvdEgUVVN"
      },
      "execution_count": 6,
      "outputs": []
    },
    {
      "cell_type": "markdown",
      "source": [
        "### 2. 학습 코드 구현\n",
        "\n",
        "- DNN을 nn.Sequential로 정의한다. 마지막에는 시그모이드 적용해준다."
      ],
      "metadata": {
        "id": "wuWklxAaWoSL"
      }
    },
    {
      "cell_type": "code",
      "source": [
        "# nn.Sequential\n",
        "\n",
        "model = nn.Sequential(\n",
        "    nn.Linear(x[0].size(-1), 25),\n",
        "    nn.LeakyReLU(),\n",
        "    nn.Linear(25,20),\n",
        "    nn.LeakyReLU(),\n",
        "    nn.Linear(20,15),\n",
        "    nn.LeakyReLU(),\n",
        "    nn.Linear(15,10),\n",
        "    nn.LeakyReLU(),\n",
        "    nn.Linear(10,5),\n",
        "    nn.LeakyReLU(),\n",
        "    nn.Linear(5, y[0].size(-1)),\n",
        "    nn.Sigmoid()\n",
        ")\n",
        "\n",
        "optimizer = optim.Adam(model.parameters())"
      ],
      "metadata": {
        "id": "7fjv81OpCwQl"
      },
      "execution_count": 10,
      "outputs": []
    },
    {
      "cell_type": "code",
      "source": [
        "# 학습에 필요한 설정값을 정한다.\n",
        "\n",
        "n_epochs = 10000\n",
        "batch_size = 32\n",
        "print_interval = 10\n",
        "early_stop = 100\n",
        "lowest_loss = np.inf\n",
        "best_model = None\n",
        "lowest_epoch = np.inf"
      ],
      "metadata": {
        "id": "2yJBRB2aUvgi"
      },
      "execution_count": 8,
      "outputs": []
    },
    {
      "cell_type": "code",
      "source": [
        "# 학습 수행\n",
        "# 앞서 코드와 다른점 : for문 후반부에 검증 작업을 위한 코드가 추가되었다는 것이다.\n",
        "\n",
        "train_history, valid_history = [] ,[]\n",
        "\n",
        "for i in range(n_epochs):\n",
        "    # Shuffle the index to feed-forward\n",
        "    indices = torch.randperm(x[0].size(0))\n",
        "    x_ = torch.index_select(x[0], dim = 0, index = indices)\n",
        "    y_ = torch.index_select(y[0], dim = 0, index = indices)\n",
        "\n",
        "    x_ = x_.split(batch_size, dim = 0)\n",
        "    y_ = y_.split(batch_size, dim = 0)\n",
        "\n",
        "    train_loss, valid_loss = 0, 0\n",
        "    y_hat = []\n",
        "    \n",
        "    for x_i, y_i in zip(x_, y_):\n",
        "        y_hat_i = model(x_i)\n",
        "        loss = F.binary_cross_entropy(y_hat_i, y_i) # 손실함수 BCE 사용\n",
        "\n",
        "        optimizer.zero_grad()\n",
        "        loss.backward()\n",
        "\n",
        "        optimizer.step()\n",
        "\n",
        "        train_loss += float(loss) # 메모리 부족을 방지하기 위하여 중요한 부분이다.\n",
        "    \n",
        "    train_loss = train_loss / len(x_)\n",
        "\n",
        "# 검증 데이터셋 사용하기\n",
        "# 검증 과정에서는 그래디언트 계산이 필요없기 때문에 torch.no_grad()를 사용하여 with내부에서 검증 작업을 진행\n",
        "\n",
        "    with torch.no_grad():\n",
        "        x_ = x[1].split(batch_size, dim=0)\n",
        "        y_ = y[1].split(batch_size, dim=0)\n",
        "\n",
        "        valid_loss = 0\n",
        "        \n",
        "        for x_i, y_i in zip(x_, y_):\n",
        "            y_hat_i = model(x_i)\n",
        "            loss = F.binary_cross_entropy(y_hat_i, y_i)\n",
        "\n",
        "            valid_loss += loss\n",
        "\n",
        "            y_hat += [y_hat_i]\n",
        "\n",
        "    valid_loss = valid_loss / len(x_)\n",
        "\n",
        "    # 교육이 완료된 후 플롯에 각 손실을 기록합니다\n",
        "\n",
        "    train_history += [train_loss]\n",
        "    valid_history += [valid_loss]\n",
        "\n",
        "    if (i+1) % print_interval == 0:\n",
        "        print('Epoch %d: train_loss=%.4e valid_loss=%.4e lowest_loss = =%.4e' % (i+1, \n",
        "                                                                                 train_loss,\n",
        "                                                                                 valid_loss,\n",
        "                                                                                 lowest_loss))\n",
        "    if valid_loss <= lowest_loss:\n",
        "        lowest_loss = valid_loss\n",
        "        lowest_epoch = i\n",
        "        \n",
        "        best_model = deepcopy(model.state_dict())\n",
        "    \n",
        "    else:\n",
        "        if early_stop > 0 and lowest_epoch + early_stop < i+1:\n",
        "            print('%d epoch 이후 더 이상의 개선은 필요 없다.' % early_stop)\n",
        "            break\n",
        "\n",
        "print('%d 에포크가 가장 낮은 검증 손실이다. : %.4e' % (lowest_epoch + 1, lowest_loss))\n",
        "\n",
        "# best model 저장\n",
        "\n",
        "model.load_state_dict(best_model)"
      ],
      "metadata": {
        "colab": {
          "base_uri": "https://localhost:8080/"
        },
        "id": "CP4-ZQq6X6fV",
        "outputId": "48202b15-7f38-442f-97dd-788728be737f"
      },
      "execution_count": 11,
      "outputs": [
        {
          "output_type": "stream",
          "name": "stdout",
          "text": [
            "Epoch 10: train_loss=1.8449e-01 valid_loss=1.8883e-01 lowest_loss = =2.3492e-01\n",
            "Epoch 20: train_loss=3.4568e-02 valid_loss=1.0535e-01 lowest_loss = =1.0442e-01\n",
            "Epoch 30: train_loss=1.6197e-02 valid_loss=1.3597e-01 lowest_loss = =1.0442e-01\n",
            "Epoch 40: train_loss=3.7407e-03 valid_loss=1.5872e-01 lowest_loss = =1.0442e-01\n",
            "Epoch 50: train_loss=1.4815e-03 valid_loss=1.7875e-01 lowest_loss = =1.0442e-01\n",
            "Epoch 60: train_loss=7.6983e-04 valid_loss=1.9754e-01 lowest_loss = =1.0442e-01\n",
            "Epoch 70: train_loss=4.8885e-04 valid_loss=2.1359e-01 lowest_loss = =1.0442e-01\n",
            "Epoch 80: train_loss=3.1051e-04 valid_loss=8.7605e-01 lowest_loss = =1.0442e-01\n",
            "Epoch 90: train_loss=2.2898e-04 valid_loss=8.8057e-01 lowest_loss = =1.0442e-01\n",
            "Epoch 100: train_loss=1.6354e-04 valid_loss=8.8564e-01 lowest_loss = =1.0442e-01\n",
            "Epoch 110: train_loss=1.4236e-04 valid_loss=8.8971e-01 lowest_loss = =1.0442e-01\n",
            "100 epoch 이후 더 이상의 개선은 필요 없다.\n",
            "17 에포크가 가장 낮은 검증 손실이다. : 1.0442e-01\n"
          ]
        },
        {
          "output_type": "execute_result",
          "data": {
            "text/plain": [
              "<All keys matched successfully>"
            ]
          },
          "metadata": {},
          "execution_count": 11
        }
      ]
    },
    {
      "cell_type": "markdown",
      "source": [
        "### 3. 손실 곡선 확인\n",
        "- "
      ],
      "metadata": {
        "id": "5OXb2z7aYdzB"
      }
    },
    {
      "cell_type": "code",
      "source": [
        "plot_from = 2\n",
        "\n",
        "plt.figure(figsize=(20,10))\n",
        "plt.grid('grid') # grid 추가\n",
        "plt.title('Train / Valid Loss History')\n",
        "plt.plot(\n",
        "    range(plot_from, len(train_history)), train_history[plot_from:],\n",
        "    range(plot_from, len(valid_history)), valid_history[plot_from:],)\n",
        "\n",
        "plt.yscale('log')\n",
        "plt.show()\n",
        "\n",
        "# 초반에는 함께 내려가다가 약 16 ~ 17 epoch쯤에서 격차가 벌어지고있다."
      ],
      "metadata": {
        "colab": {
          "base_uri": "https://localhost:8080/",
          "height": 607
        },
        "id": "4d5qdfSHcuoV",
        "outputId": "d6ff2b41-c4b4-4930-fb45-af126b55df04"
      },
      "execution_count": 12,
      "outputs": [
        {
          "output_type": "display_data",
          "data": {
            "text/plain": [
              "<Figure size 1440x720 with 1 Axes>"
            ],
            "image/png": "[encoded data removed]"
          },
          "metadata": {
            "needs_background": "light"
          }
        }
      ]
    },
    {
      "cell_type": "markdown",
      "source": [
        "### 4. 결과 확인"
      ],
      "metadata": {
        "id": "yM4Pl1ZVc_G_"
      }
    },
    {
      "cell_type": "code",
      "source": [
        "test_loss = 0\n",
        "y_hat = []\n",
        "\n",
        "with torch.no_grad():\n",
        "    x_ = x[2].split(batch_size, dim = 0)\n",
        "    y_ = y[2].split(batch_size, dim = 0)\n",
        "\n",
        "    for x_i, y_i in zip(x_, y_):\n",
        "        y_hat_i = model(x_i)\n",
        "        loss = F.binary_cross_entropy(y_hat_i, y_i)\n",
        "\n",
        "        test_loss += loss\n",
        "        y_hat += [y_hat_i]\n",
        "\n",
        "test_loss = test_loss / len(x_)\n",
        "y_hat = torch.cat(y_hat, dim = 0)\n",
        "\n",
        "sortd_history = sorted(zip(train_history, valid_history), key = lambda x: x[1])\n",
        "\n",
        "print('Train_loss : %.4e' % sortd_history[0][0])\n",
        "print('Valid_loss : %.4e' % sortd_history[0][1])\n",
        "print('Test_loss : %.4e' % test_loss)"
      ],
      "metadata": {
        "colab": {
          "base_uri": "https://localhost:8080/"
        },
        "id": "THNig6EAZSbO",
        "outputId": "53c656ac-f9c2-4e7f-f5eb-8e21650aaf26"
      },
      "execution_count": 13,
      "outputs": [
        {
          "output_type": "stream",
          "name": "stdout",
          "text": [
            "Train_loss : 4.3028e-02\n",
            "Valid_loss : 1.0442e-01\n",
            "Test_loss : 3.6664e-02\n"
          ]
        }
      ]
    },
    {
      "cell_type": "code",
      "source": [
        "# 이진 분류 정확도 구하기\n",
        "\n",
        "correct_cnt = (y[2] == (y_hat > .5)).sum()\n",
        "total_cnt = float(y[2].size(0))\n",
        "\n",
        "print('Test Accuracy: %.4f' % (correct_cnt / total_cnt))"
      ],
      "metadata": {
        "colab": {
          "base_uri": "https://localhost:8080/"
        },
        "id": "yUM4Cm5kdLss",
        "outputId": "bff12a5c-1d06-411c-dab8-e533eaaff447"
      },
      "execution_count": 14,
      "outputs": [
        {
          "output_type": "stream",
          "name": "stdout",
          "text": [
            "Test Accuracy: 0.9913\n"
          ]
        }
      ]
    },
    {
      "cell_type": "code",
      "source": [
        "df = pd.DataFrame(torch.cat([y[2], y_hat], dim = 1).detach_().numpy(),\n",
        "                  columns = ['y', 'y_hat'])\n",
        "\n",
        "sns.histplot(df, x = 'y_hat', hue = 'y', bins = 50, stat = 'probability')\n",
        "plt.show()\n"
      ],
      "metadata": {
        "colab": {
          "base_uri": "https://localhost:8080/",
          "height": 280
        },
        "id": "RvKdbP4_de_I",
        "outputId": "26e9a526-13a6-4f18-a8fe-693740f38076"
      },
      "execution_count": 16,
      "outputs": [
        {
          "output_type": "display_data",
          "data": {
            "text/plain": [
              "<Figure size 432x288 with 1 Axes>"
            ],
            "image/png": "[encoded data removed]"
          },
          "metadata": {
            "needs_background": "light"
          }
        }
      ]
    },
    {
      "cell_type": "code",
      "source": [
        "# sklearn을 활용하는 방법\n",
        "\n",
        "from sklearn.metrics import roc_auc_score\n",
        "\n",
        "roc_auc_score(df.values[:, 0], df.values[:, 1])\n",
        "\n",
        "# 클래스가 확연하게 구분되어있다."
      ],
      "metadata": {
        "colab": {
          "base_uri": "https://localhost:8080/"
        },
        "id": "oDJ6SfVzd7bn",
        "outputId": "e67354e1-0aeb-4cc6-bdc6-537ffbc47c9a"
      },
      "execution_count": 17,
      "outputs": [
        {
          "output_type": "execute_result",
          "data": {
            "text/plain": [
              "1.0"
            ]
          },
          "metadata": {},
          "execution_count": 17
        }
      ]
    },
    {
      "cell_type": "markdown",
      "source": [
        "## 13.4 심층신경망을 활용한 분류\n",
        "\n",
        "![](https://kh-kim.github.io/nlp_with_deep_learning_blog/assets/images/1-13/04-binary_classification_example.png)\n",
        "<center>이진 분류 문제로 표현</center>\n",
        "\n",
        "- 이진 분류 경우 클래스가 두 개뿐이라서 한 클래스의 확률 값을 알면 다른 클래스 확률을 바로 알 수 있다. 입력 x가 각 클래스에 속할 확률 값을 출력한다고 생각할 수있다. 이를 다중 클래스 분류로 확장 할 수 있다.\n",
        "\n",
        "![](https://kh-kim.github.io/nlp_with_deep_learning_blog/assets/images/1-13/04-classification_example.png)\n",
        "<center>다중 분류 문제로 확장</center>\n",
        "\n",
        "- 모델의 출력 벡터는 각 후보 클래스에 대한 조건부 확률 값으 요소로 가지고 있도록 한다. 위 그림의 확률 값 위에 0, 1로만 채워진 정답 벡터에 주목하라 이 정답 벡터는 원-핫 벡터인데 각 클래스별 확률 값이 담긴 모델 $\\hat{y}$와 실제 정답 레이블 벡터 $y$를 비교하면 손실 값을 얻을 수있다. 우리는 이 손실 값을 최소로하는 모델의 파라미터를 찾아야 한다.\n",
        "\n",
        "### 1. 분류 문제를 위한 DNN의 구조롸와 손실 함수\n",
        "\n",
        "![](https://kh-kim.github.io/nlp_with_deep_learning_blog/assets/images/1-13/04-classifier.png)\n",
        "<center>DNN에서의 소프트맥수 함수 적용</center>\n",
        "\n",
        "- 이진 분류 문제에서 시그모이드를 사용한 것처럼 일반 분류 문제를 해결하기 위해 소프트맥스를 활용한다. \n",
        "\n",
        "- 중요한 것은 이진 분류의 경우 출력 벡터 $\\hat{y}$의 차원만큼 별도의 이진 분류 문제가 있었던 것에 비해 일반 다중 클래스 분류의 경우에는 한 모델이 하나의 분류 문제만 풀 수 있다.\n",
        "\n",
        "- 다시 자세히 설명하면 소프트맥스는 벡터를 입력 받으면 각 차원이 상호 작용으로 출력 벡터가 계산된다. 소프트맥스에서 분류 문제로 동물 이미지를 받는다면 출력 벡터의 각 차원은 해당 이미지가 어떤 동물 클래스에 속할지에 대한 확률 값이 들어있을 것이다.\n",
        "\n",
        "### 2. 회귀 vs 분류\n",
        "- 각 문제들을 다른 형태의 타깃 값을 문제에 따라 각기 다른 손실 함수와 마지막 계층의 활성 함수를 활용해야 한다.\n",
        "\n",
        "|문제|타깃 값|마지막 계층의 활성 함수|손실 함수|예제|\n",
        "|-|-|-|-|-|\n",
        "|회귀|연속형 벡터|없음|MSE|주어진 신상 정보를 바탕으로 연봉 예측|\n",
        "|이진 분류|0 or 1|시그모이드|BCE|주어진 신상 정보를 바탕으로 성별 예측|\n",
        "|분류|카테고리 or 이산 값|소프트맥스|CE|주어진 신상 정보를 바탕으로 직업군 예측|"
      ],
      "metadata": {
        "id": "etKX2VMNeS38"
      }
    },
    {
      "cell_type": "markdown",
      "source": [
        "## 13.5 소프트맥수 함수와 교차 앤트로피 손실 함수\n",
        "\n",
        "### 1. 소프트맥스 함수\n",
        "- 소프트맥스 함수는 임의의 벡터를 입력 받아 이산 확률 분포의 형태로 출력을 반환, 따라서 출력 벡터의 합은 1이다.\n",
        "\n",
        "![](https://kh-kim.github.io/nlp_with_deep_learning_blog/assets/images/1-13/05-softmax.png)\n",
        "<center>소프트맥스 함수 적용</center>\n",
        "\n",
        "- 다음과 같은 임의의 벡터가 있다. 벡터 v에서 가장 큰 값의 인덱스를 찾기 위한 맥스 함수를 활용하면 아래와 같은 결과가 나온다.\n",
        "- $ v = \\begin{bmatrix}\n",
        "-7 \\\\\n",
        "5 \\\\\n",
        "10 \n",
        "\\end{bmatrix}$\n",
        "\n",
        "- $ max(v) = \\begin{bmatrix}\n",
        "0 \\\\\n",
        "0 \\\\\n",
        "1 \n",
        "\\end{bmatrix}$\n",
        "\n",
        "#### 소프트맥스 함수의 수식\n",
        "- $softmax_{i}(x) = \\frac{\\epsilon^{x_{i}}}{\\sum_{j=1}^n \\epsilon^{x_{i}}}$\n",
        "- $where x \\in \\mathbb{R^n}$\n",
        "\n",
        "- 수식을 보면 i번째 차원의 결정하기 위해 j=1 부터 n까지 다른 차원이 관여한다. 소프트맥스 함수는 벡터 내의 다른 차원돠 상호작용하여 해당 차원의 값이 결정된다. 따라서 전체 소프트맥스 함수의 수식은 다음과 같다.\n",
        "\n",
        "- $softmax \\begin{pmatrix} & \\begin{bmatrix}\n",
        "x_i \\\\\n",
        "\\vdots \\\\\n",
        "x_n \n",
        "\\end{bmatrix} & \\end{pmatrix} = \\begin{bmatrix}\n",
        "softmax(x_i) \\\\\n",
        "\\vdots \\\\\n",
        "softmax_{n}(x_n) \n",
        "\\end{bmatrix}, where x = \\begin{bmatrix}\n",
        "x_i \\\\\n",
        "\\vdots \\\\\n",
        "x_n \n",
        "\\end{bmatrix}$\n",
        "\n",
        "- 소프트맥스 함수의 결과는 각 차원에 대한 소프트맥스 결과를 모아서 벡터로 만든 것이라고 볼 수 있을 것이다. 이 소프트맥스 함수에 l개의 게층을 가진 DNN의 마지막 계층 결괏값을 집어넣는다.\n",
        "\n",
        "- 그 이후 함수 결괏값을 다음 수식과 같이 모델의 출력 벡터 $\\hat{y}$로 삼을 것이다. 이 출력 벡터는 입력 x가 주어졌을 때 입력 샘플이 어떤 클래스에 속할지에 대한 조건부 확률 분포로 볼 수 있다. 수식은 아래와 같다.\n",
        "\n",
        "- $P_{\\theta}(\\cdot|x) \\approx \\hat(y) = softamx(h_{l})$\n",
        "\n",
        "### 2. 교차 엔트로피 손실 함수\n",
        "- 이진 분류 손실함수로 BCE를 사용했었다. 다중 클래스 분류 문제는 이진 분류 문제의 일반화 버전이기 때문에 마찬가지로 BCE 손실 함수의 일반 버전인 CE 손실 함수를 사용한다. 다음 수식은 N개 샘플에 대한 손실 값을 구하기 위한 CE 손실 함수를 나타낸 것이다.\n",
        "\n",
        "- $CE(y_{1:N}, \\hat{y}_{1:N}) = -\\frac{1}{N} \\sum_{i=1}^N y_{i}^T \\cdot log\\hat{y}_i$\n",
        "- $where y_{1:N} \\in {0,1}^N*m and \\hat{y}_{1:N} \\in [0,1]^N*m$\n",
        "\n",
        "- 기존에 사용한 BCE와 다른 점은 전체 m개의 클래스에 대해서 정답이 각 클래스일 때의 텀들을 더하도록 한다. 이 수식에서 $\\hat{y}$는 소프트맥스 함수의 결과값이다. 이걸 다시 수식으로 표현하면 다음과 같다.\n",
        "\n",
        "- $CE(y_{1:N}, \\hat{y}_{1:N}) = -\\frac{1}{N} \\sum_{i=1}^N y_{i}^T \\cdot log\\hat{y}_i$\n",
        "- $-\\frac{1}{N} \\sum_{i=1}^N y_{i}^T logP_{\\theta}(y_i|x_i)$\n",
        "\n",
        "- 다음과 같은 간단한 예시를 참고하자.\n",
        "\n",
        "- $ y_i = \\begin{bmatrix}\n",
        "0 \\\\\n",
        "0 \\\\\n",
        "1 \\\\\n",
        "0 \n",
        "\\end{bmatrix} and \n",
        "P_{\\theta}(y_i|x_i) = \n",
        "\\hat{y}_i = \\begin{bmatrix}\n",
        ".2 \\\\\n",
        ".1 \\\\\n",
        ".65 \\\\\n",
        ".05 \n",
        "\\end{bmatrix}\n",
        "$\n",
        "\n",
        "- 이 두 벡터를 내적하면 다음과 같다\n",
        "\n",
        "- $y_i^T \\cdot log \\hat{y}_i = [0,0,1,0] * log \\begin{bmatrix}\n",
        ".2 \\\\\n",
        ".1 \\\\\n",
        ".65 \\\\\n",
        ".05 \n",
        "\\end{bmatrix}$\n",
        "- $0 * log0.2 + 0 * log0.1 + 1 * log0.65 + 0 * log0.05 = log0.65 = logP_{\\theta}(y = 2|x_i)$\n",
        "\n",
        "- 즉 CE는 입력 $x_i$가 주어졌을 때 정답 클래스에 대한 로그 조건부 확률 값을 구하는 과정이다. 따라서 우리는 로그 확률 값이 최대화되도록 파라미터를 움직여야 하는데 전체 손실 함수 입장에서는 가장 바깥쪽에 마이너스가 붙어 있으므로 최소화 문제로 바뀌게 된다.\n",
        "\n",
        "### 3. 로그소프트맥스 함수와 음의 로그 가능도 손실 함수\n",
        "- 파이토치에서는 음의 가능도 손실 함수를 제공한다. 로그소프트맥스 함수도 제공하는데 그냥 소프트맥스에 로그를 취한 것과 같다. 수식 첫줄에서 로그를 쓰지 않음을 주의하자.\n",
        "\n",
        "- $NLL(y_{1:N}, \\hat{y}_{1:N}) = -\\frac{1}{N} \\sum_{i=1}^N y_{i}^T \\cdot \\hat{y}_i$\n",
        "- $where \\hat{y} = logP_{\\theta}(y_i|x_i) from log-softmax$\n",
        "\n",
        "- 즉, 소프트맥스 함수에 CE 손실 함수를 사용하는 것은 로그소프트맥스 함수에 NLL 손실 함수를 사용하는 것과 같은 결과를 가진다."
      ],
      "metadata": {
        "id": "w719lT8qi8Yc"
      }
    },
    {
      "cell_type": "markdown",
      "source": [
        "## 13.6 다중 클래스 분류 결과 분석하기\n",
        "\n",
        "### 1. 혼돈 행렬\n",
        "\n",
        "![](https://kh-kim.github.io/nlp_with_deep_learning_blog/assets/images/1-13/06-confusion_matrix.png)\n",
        "<center>MNIST 분류에 대한 테스트셋 예측 결과를 바탕으로 한 혼동 행렬표</center>\n",
        "\n",
        "- 각 true행과 pred열이 일치하는 경우가 모델이 정확하게 예측한 것이다."
      ],
      "metadata": {
        "id": "vbeuEI7VtmAk"
      }
    },
    {
      "cell_type": "markdown",
      "source": [
        "## 13.7 Deep Classification\n",
        "- MINST 데이터셋을 사용하여 다중 분류를 수행한다."
      ],
      "metadata": {
        "id": "1UCLAOQauG7f"
      }
    },
    {
      "cell_type": "markdown",
      "source": [
        "### 1. 데이터 준비"
      ],
      "metadata": {
        "id": "MMlb0VTzuVWO"
      }
    },
    {
      "cell_type": "code",
      "source": [
        "# 라이브러리 불러오기\n",
        "\n",
        "import numpy as np\n",
        "from copy import deepcopy\n",
        "import matplotlib.pyplot as plt\n",
        "\n",
        "import torch\n",
        "import torch.nn as nn\n",
        "import torch.nn.functional as F\n",
        "import torch.optim as optim\n",
        "\n",
        "from torchvision import datasets, transforms\n",
        "\n",
        "# 데이터 셋 불러오기\n",
        "\n",
        "train = datasets.MNIST(\n",
        "    '../data', train = True, download = True, transform = transforms.Compose([transforms.ToTensor()]),)\n",
        "\n",
        "test = datasets.MNIST(\n",
        "    '../data', train = False, download = True, transform = transforms.Compose([transforms.ToTensor()]),)"
      ],
      "metadata": {
        "id": "VNvUKILiuXv6"
      },
      "execution_count": 5,
      "outputs": []
    },
    {
      "cell_type": "code",
      "source": [
        "# 데이터 특성 확인\n",
        "\n",
        "def plot(x):\n",
        "    img = (np.array(x.detach().cpu(), dtype = 'float')).reshape(28,28)\n",
        "    plt.imshow(img, cmap = 'gray')\n",
        "    plt.show()"
      ],
      "metadata": {
        "id": "Z6mxiEOuvb8X"
      },
      "execution_count": 6,
      "outputs": []
    },
    {
      "cell_type": "code",
      "source": [
        "# 데이터 확인\n",
        "\n",
        "plot(train.data[0])"
      ],
      "metadata": {
        "colab": {
          "base_uri": "https://localhost:8080/",
          "height": 265
        },
        "id": "vdoePjxQvsoI",
        "outputId": "6df5f6c0-530c-4abe-a0f2-de948a77139d"
      },
      "execution_count": 7,
      "outputs": [
        {
          "output_type": "display_data",
          "data": {
            "text/plain": [
              "<Figure size 432x288 with 1 Axes>"
            ],
            "image/png": "[encoded data removed]"
          },
          "metadata": {
            "needs_background": "light"
          }
        }
      ]
    },
    {
      "cell_type": "code",
      "source": [
        "# 이미지 데이터 Flatten하기\n",
        "\n",
        "x = train.data.float() / 255.\n",
        "y = train.targets\n",
        "\n",
        "x = x.view(x.size(0), -1)\n",
        "print(x.shape, y.shape)"
      ],
      "metadata": {
        "colab": {
          "base_uri": "https://localhost:8080/"
        },
        "id": "YQLlnA7tvzsm",
        "outputId": "5f31cbbc-3dee-4e5d-d518-d18695d4674f"
      },
      "execution_count": 8,
      "outputs": [
        {
          "output_type": "stream",
          "name": "stdout",
          "text": [
            "torch.Size([60000, 784]) torch.Size([60000])\n"
          ]
        }
      ]
    },
    {
      "cell_type": "code",
      "source": [
        "# 흑백이미지 동작 코드 작성\n",
        "\n",
        "input_size = x.size(-1)\n",
        "output_size = int(max(y)) + 1\n",
        "\n",
        "print('input_size: %d, output_size: %d' % (input_size, output_size))\n",
        "\n",
        "# 10개의 확률을 뱉어낸다."
      ],
      "metadata": {
        "colab": {
          "base_uri": "https://localhost:8080/"
        },
        "id": "o_0XDLNqwNEQ",
        "outputId": "0b222406-3e8c-471f-a388-cb0a16258d75"
      },
      "execution_count": 9,
      "outputs": [
        {
          "output_type": "stream",
          "name": "stdout",
          "text": [
            "input_size: 784, output_size: 10\n"
          ]
        }
      ]
    },
    {
      "cell_type": "code",
      "source": [
        "# 데이터셋 나누기\n",
        "ratios = [.8, .2]\n",
        "\n",
        "train_cnt = int(x.size(0) * ratios[0])\n",
        "valid_cnt = int(x.size(0) * ratios[1])\n",
        "test_cnt = len(test.data)\n",
        "cnts = [train_cnt, valid_cnt]\n",
        "\n",
        "print(\"Train %d / Valid %d / Test %d samples.\" % (train_cnt, valid_cnt, test_cnt))\n",
        "\n",
        "# 랜덤 샘플링 수행\n",
        "\n",
        "indices = torch.randperm(x.size(0))\n",
        "\n",
        "x = torch.index_select(x, dim=0, index=indices)\n",
        "y = torch.index_select(y, dim=0, index=indices)\n",
        "\n",
        "x = list(x.split(cnts, dim=0)) # list로 바꾸지 않으면 tuple error가 발생한다.\n",
        "y = list(y.split(cnts, dim=0))\n",
        "\n",
        "x += [(test.data.float() / 255.).view(test_cnt, -1)]\n",
        "y += [test.targets]\n",
        "\n",
        "for x_i, y_i in zip(x, y):\n",
        "    print(x_i.size(), y_i.size())"
      ],
      "metadata": {
        "colab": {
          "base_uri": "https://localhost:8080/"
        },
        "id": "YKiIuMelygg3",
        "outputId": "985c59b2-cea6-4207-cf1a-f888f2306b3d"
      },
      "execution_count": 10,
      "outputs": [
        {
          "output_type": "stream",
          "name": "stdout",
          "text": [
            "Train 48000 / Valid 12000 / Test 10000 samples.\n",
            "torch.Size([48000, 784]) torch.Size([48000])\n",
            "torch.Size([12000, 784]) torch.Size([12000])\n",
            "torch.Size([10000, 784]) torch.Size([10000])\n"
          ]
        }
      ]
    },
    {
      "cell_type": "markdown",
      "source": [
        "### 2. 학습 코드 구현\n",
        "- MNIST 데이터셋의 이미지는 변환을 통해 784개 요소를 갖는 1차원 벡터가 됐다. 모델은 784차원 벡터를 받아 10개의 클래스에 속할 확률 값을 각각 출력해야한다."
      ],
      "metadata": {
        "id": "zOuYDSJ0zSIG"
      }
    },
    {
      "cell_type": "code",
      "source": [
        "# nn.Sequential\n",
        "\n",
        "model = nn.Sequential(\n",
        "    nn.Linear(input_size, 500),\n",
        "    nn.LeakyReLU(),\n",
        "    nn.Linear(500,400),\n",
        "    nn.LeakyReLU(),\n",
        "    nn.Linear(400,300),\n",
        "    nn.LeakyReLU(),\n",
        "    nn.Linear(300,200),\n",
        "    nn.LeakyReLU(),\n",
        "    nn.Linear(200,100),\n",
        "    nn.LeakyReLU(),\n",
        "    nn.Linear(100,50),\n",
        "    nn.LeakyReLU(),\n",
        "    nn.Linear(50, output_size),\n",
        "    nn.LogSoftmax(dim = -1) # NLL 함수를 마지막에 적용\n",
        ")\n",
        "\n",
        "print(model)"
      ],
      "metadata": {
        "colab": {
          "base_uri": "https://localhost:8080/"
        },
        "id": "75kBLqLww28r",
        "outputId": "fe8f1f8a-00b9-4790-9381-a5c37ccbace0"
      },
      "execution_count": 11,
      "outputs": [
        {
          "output_type": "stream",
          "name": "stdout",
          "text": [
            "Sequential(\n",
            "  (0): Linear(in_features=784, out_features=500, bias=True)\n",
            "  (1): LeakyReLU(negative_slope=0.01)\n",
            "  (2): Linear(in_features=500, out_features=400, bias=True)\n",
            "  (3): LeakyReLU(negative_slope=0.01)\n",
            "  (4): Linear(in_features=400, out_features=300, bias=True)\n",
            "  (5): LeakyReLU(negative_slope=0.01)\n",
            "  (6): Linear(in_features=300, out_features=200, bias=True)\n",
            "  (7): LeakyReLU(negative_slope=0.01)\n",
            "  (8): Linear(in_features=200, out_features=100, bias=True)\n",
            "  (9): LeakyReLU(negative_slope=0.01)\n",
            "  (10): Linear(in_features=100, out_features=50, bias=True)\n",
            "  (11): LeakyReLU(negative_slope=0.01)\n",
            "  (12): Linear(in_features=50, out_features=10, bias=True)\n",
            "  (13): LogSoftmax(dim=-1)\n",
            ")\n"
          ]
        }
      ]
    },
    {
      "cell_type": "code",
      "source": [
        "# optimizer 선언\n",
        "\n",
        "optimizer = optim.Adam(model.parameters())\n",
        "crit = nn.NLLLoss()"
      ],
      "metadata": {
        "id": "Zms3OxUK00_8"
      },
      "execution_count": 14,
      "outputs": []
    },
    {
      "cell_type": "code",
      "source": [
        "# GPU를 사용할 수 없어 CPU를 사용\n",
        "\n",
        "device = torch.device('cpu')\n",
        "\n",
        "if torch.cuda.is_available():\n",
        "    device = torch.device('gpu')"
      ],
      "metadata": {
        "id": "SOgsY-FY1CpN"
      },
      "execution_count": 15,
      "outputs": []
    },
    {
      "cell_type": "code",
      "source": [
        "model = model.to(device)\n",
        "\n",
        "x = [x_i.to(device) for x_i in x]\n",
        "y = [y_i.to(device) for y_i in y]"
      ],
      "metadata": {
        "id": "-oJyCcn32Cru"
      },
      "execution_count": 16,
      "outputs": []
    },
    {
      "cell_type": "code",
      "source": [
        "# 학습에 필요한 설정값을 정한다.\n",
        "\n",
        "n_epochs = 1000\n",
        "batch_size = 256\n",
        "print_interval = 10\n",
        "\n",
        "lowest_loss = np.inf\n",
        "best_model = None\n",
        "\n",
        "early_stop = 50\n",
        "lowest_epoch = np.inf"
      ],
      "metadata": {
        "id": "I1uNH8qL2MEk"
      },
      "execution_count": 17,
      "outputs": []
    },
    {
      "cell_type": "code",
      "source": [
        "# 학습 수행\n",
        "# 앞서 코드와 다른점 : for문 후반부에 검증 작업을 위한 코드가 추가되었다는 것이다.\n",
        "\n",
        "train_history, valid_history = [] ,[]\n",
        "\n",
        "for i in range(n_epochs):\n",
        "    # Shuffle the index to feed-forward\n",
        "    indices = torch.randperm(x[0].size(0)).to(device)\n",
        "    x_ = torch.index_select(x[0], dim = 0, index = indices)\n",
        "    y_ = torch.index_select(y[0], dim = 0, index = indices)\n",
        "\n",
        "    x_ = x_.split(batch_size, dim = 0)\n",
        "    y_ = y_.split(batch_size, dim = 0)\n",
        "\n",
        "    train_loss, valid_loss = 0, 0\n",
        "    y_hat = []\n",
        "    \n",
        "    for x_i, y_i in zip(x_, y_):\n",
        "        y_hat_i = model(x_i)\n",
        "        loss = crit(y_hat_i, y_i.squeeze()) # 손실함수 NLL 사용\n",
        "\n",
        "        optimizer.zero_grad()\n",
        "        loss.backward()\n",
        "\n",
        "        optimizer.step()\n",
        "\n",
        "        train_loss += float(loss) # 메모리 부족을 방지하기 위하여 중요한 부분이다.\n",
        "    \n",
        "    train_loss = train_loss / len(x_)\n",
        "\n",
        "# 검증 데이터셋 사용하기\n",
        "# 검증 과정에서는 그래디언트 계산이 필요없기 때문에 torch.no_grad()를 사용하여 with내부에서 검증 작업을 진행\n",
        "\n",
        "    with torch.no_grad():\n",
        "        x_ = x[1].split(batch_size, dim=0)\n",
        "        y_ = y[1].split(batch_size, dim=0)\n",
        "\n",
        "        valid_loss = 0\n",
        "        \n",
        "        for x_i, y_i in zip(x_, y_):\n",
        "            y_hat_i = model(x_i)\n",
        "            loss = crit(y_hat_i, y_i.squeeze())\n",
        "\n",
        "            valid_loss += loss\n",
        "\n",
        "            y_hat += [y_hat_i]\n",
        "\n",
        "    valid_loss = valid_loss / len(x_)\n",
        "\n",
        "    # 교육이 완료된 후 플롯에 각 손실을 기록합니다\n",
        "\n",
        "    train_history += [train_loss]\n",
        "    valid_history += [valid_loss]\n",
        "\n",
        "    if (i+1) % print_interval == 0:\n",
        "        print('Epoch %d: train_loss=%.4e valid_loss=%.4e lowest_loss = =%.4e' % (i+1, \n",
        "                                                                                 train_loss,\n",
        "                                                                                 valid_loss,\n",
        "                                                                                 lowest_loss))\n",
        "    if valid_loss <= lowest_loss:\n",
        "        lowest_loss = valid_loss\n",
        "        lowest_epoch = i\n",
        "        \n",
        "        best_model = deepcopy(model.state_dict())\n",
        "    \n",
        "    else:\n",
        "        if early_stop > 0 and lowest_epoch + early_stop < i+1:\n",
        "            print('%d epoch 이후 더 이상의 개선은 필요 없다.' % early_stop)\n",
        "            break\n",
        "\n",
        "print('%d 에포크가 가장 낮은 검증 손실이다. : %.4e' % (lowest_epoch + 1, lowest_loss))\n",
        "\n",
        "# best model 저장\n",
        "\n",
        "model.load_state_dict(best_model)"
      ],
      "metadata": {
        "colab": {
          "base_uri": "https://localhost:8080/"
        },
        "id": "pTZjyFm-2X8v",
        "outputId": "50841c1b-7c9d-44f4-9e80-d568b2ea7d77"
      },
      "execution_count": 18,
      "outputs": [
        {
          "output_type": "stream",
          "name": "stdout",
          "text": [
            "Epoch 10: train_loss=2.2007e-02 valid_loss=1.0135e-01 lowest_loss = =9.7767e-02\n",
            "Epoch 20: train_loss=1.0543e-02 valid_loss=1.3170e-01 lowest_loss = =9.7767e-02\n",
            "Epoch 30: train_loss=5.6971e-03 valid_loss=1.3319e-01 lowest_loss = =9.7767e-02\n",
            "Epoch 40: train_loss=7.4530e-03 valid_loss=1.3302e-01 lowest_loss = =9.7767e-02\n",
            "Epoch 50: train_loss=3.8901e-03 valid_loss=1.2039e-01 lowest_loss = =9.7767e-02\n",
            "50 epoch 이후 더 이상의 개선은 필요 없다.\n",
            "9 에포크가 가장 낮은 검증 손실이다. : 9.7767e-02\n"
          ]
        },
        {
          "output_type": "execute_result",
          "data": {
            "text/plain": [
              "<All keys matched successfully>"
            ]
          },
          "metadata": {},
          "execution_count": 18
        }
      ]
    },
    {
      "cell_type": "markdown",
      "source": [
        "### 3. 손실 곡선 확인"
      ],
      "metadata": {
        "id": "4kQkXN3I8TnT"
      }
    },
    {
      "cell_type": "code",
      "source": [
        "plot_from = 0\n",
        "\n",
        "plt.figure(figsize=(20,10))\n",
        "plt.grid('grid') # grid 추가\n",
        "plt.title('Train / Valid Loss History')\n",
        "plt.plot(\n",
        "    range(plot_from, len(train_history)), train_history[plot_from:],\n",
        "    range(plot_from, len(valid_history)), valid_history[plot_from:],)\n",
        "\n",
        "plt.yscale('log')\n",
        "plt.show()\n",
        "\n",
        "# 학습 초반에 낮은 검증 손실 값을 찍은 후 점차 천천히 검증 손실 값이 오르고있다.\n",
        "# 학습 손실 값은 후반에 급격히 떨어지고 다시 오르는 모습을 볼 수 있다."
      ],
      "metadata": {
        "colab": {
          "base_uri": "https://localhost:8080/",
          "height": 607
        },
        "id": "5bFZVKFV8YC6",
        "outputId": "70c280ed-0348-4b27-9456-4fb4bd944b6f"
      },
      "execution_count": 19,
      "outputs": [
        {
          "output_type": "display_data",
          "data": {
            "text/plain": [
              "<Figure size 1440x720 with 1 Axes>"
            ],
            "image/png": "[encoded data removed]"
          },
          "metadata": {
            "needs_background": "light"
          }
        }
      ]
    },
    {
      "cell_type": "markdown",
      "source": [
        "### 4. 결과 확인"
      ],
      "metadata": {
        "id": "bbKmvoFi80ul"
      }
    },
    {
      "cell_type": "code",
      "source": [
        "test_loss = 0\n",
        "y_hat = []\n",
        "\n",
        "with torch.no_grad():\n",
        "    x_ = x[-1].split(batch_size, dim = 0)\n",
        "    y_ = y[-1].split(batch_size, dim = 0)\n",
        "\n",
        "    for x_i, y_i in zip(x_, y_):\n",
        "        y_hat_i = model(x_i)\n",
        "        loss = crit(y_hat_i, y_i)\n",
        "\n",
        "        test_loss += loss\n",
        "        y_hat += [y_hat_i]\n",
        "\n",
        "test_loss = test_loss / len(x_)\n",
        "y_hat = torch.cat(y_hat, dim = 0)\n",
        "\n",
        "sortd_history = sorted(zip(train_history, valid_history), key = lambda x: x[1])\n",
        "\n",
        "# print('Train_loss : %.4e' % sortd_history[0][0])\n",
        "# print('Valid_loss : %.4e' % sortd_history[0][1])\n",
        "print('Test_loss : %.4e' % test_loss)"
      ],
      "metadata": {
        "colab": {
          "base_uri": "https://localhost:8080/"
        },
        "id": "pktpAtGB86ps",
        "outputId": "939211b3-9926-41b4-d2e9-84448bfab002"
      },
      "execution_count": 20,
      "outputs": [
        {
          "output_type": "stream",
          "name": "stdout",
          "text": [
            "Test_loss : 8.1498e-02\n"
          ]
        }
      ]
    },
    {
      "cell_type": "markdown",
      "source": [
        "- 분류 문제를 다루고 있으므로 신경망의 마지막 계층은 확률 값 또는 로그 확률 값을 나타내고 있을 것이다. 따라서 마지막 출력값 중 가장 높은 값을 가지는 있는 클래스 인덱스가 모델이 예측한 클래스의 인덱스라고 볼 수 있다. 이는 argmax를 통해 구현할 수 있다."
      ],
      "metadata": {
        "id": "hZ9JAPeX9qIN"
      }
    },
    {
      "cell_type": "code",
      "source": [
        "correct_cnt = (y[-1].squeeze() == torch.argmax(y_hat, dim = -1)).sum()\n",
        "total_cnt = float(y[-1].size(0))\n",
        "\n",
        "print('Test Accuracy: %.4f' % (correct_cnt / total_cnt))"
      ],
      "metadata": {
        "colab": {
          "base_uri": "https://localhost:8080/"
        },
        "id": "F3zi5DWG9-eV",
        "outputId": "131e8d0f-1671-4f05-e09a-79d97d798856"
      },
      "execution_count": 21,
      "outputs": [
        {
          "output_type": "stream",
          "name": "stdout",
          "text": [
            "Test Accuracy: 0.9766\n"
          ]
        }
      ]
    },
    {
      "cell_type": "code",
      "source": [
        "# 혼동 행렬 나타내기\n",
        "\n",
        "import pandas as pd\n",
        "from sklearn.metrics import confusion_matrix\n",
        "\n",
        "pd.DataFrame(confusion_matrix(y[-1], torch.argmax(y_hat, dim = -1)),\n",
        "             index = ['true_%d' % i for i  in range(10)],\n",
        "             columns = ['pred_%d' % i for i  in range(10)])\n",
        "\n",
        "# 대부분 분류를 잘 수행한 것으로 나타났다. 앞서 구한 정확도에서 이미 높게 나왔기에 당연한 결과이다."
      ],
      "metadata": {
        "colab": {
          "base_uri": "https://localhost:8080/",
          "height": 363
        },
        "id": "_MRBuOAn-Yhj",
        "outputId": "e866e50b-bb6b-429e-8f07-bf147b24f898"
      },
      "execution_count": 22,
      "outputs": [
        {
          "output_type": "execute_result",
          "data": {
            "text/plain": [
              "        pred_0  pred_1  pred_2  pred_3  pred_4  pred_5  pred_6  pred_7  \\\n",
              "true_0     970       0       0       1       1       0       3       3   \n",
              "true_1       0    1123       3       4       0       0       1       1   \n",
              "true_2       3       0    1007       8       1       0       1       5   \n",
              "true_3       0       0       0     998       0       4       0       4   \n",
              "true_4       1       2       4       0     962       0       5       1   \n",
              "true_5       3       0       0      17       3     853      11       2   \n",
              "true_6       7       3       1       1       1       1     942       0   \n",
              "true_7       1       3      12       7       0       0       0     998   \n",
              "true_8       0       2       3       9       3       5       9       4   \n",
              "true_9       4       3       0       8       6       1       0       6   \n",
              "\n",
              "        pred_8  pred_9  \n",
              "true_0       0       2  \n",
              "true_1       3       0  \n",
              "true_2       7       0  \n",
              "true_3       1       3  \n",
              "true_4       0       7  \n",
              "true_5       2       1  \n",
              "true_6       2       0  \n",
              "true_7       0       7  \n",
              "true_8     934       5  \n",
              "true_9       2     979  "
            ],
            "text/html": [
              "\n",
              "  <div id=\"df-1ae3bf59-1bc2-4411-b481-916e1e182bd6\">\n",
              "    <div class=\"colab-df-container\">\n",
              "      <div>\n",
              "<style scoped>\n",
              "    .dataframe tbody tr th:only-of-type {\n",
              "        vertical-align: middle;\n",
              "    }\n",
              "\n",
              "    .dataframe tbody tr th {\n",
              "        vertical-align: top;\n",
              "    }\n",
              "\n",
              "    .dataframe thead th {\n",
              "        text-align: right;\n",
              "    }\n",
              "</style>\n",
              "<table border=\"1\" class=\"dataframe\">\n",
              "  <thead>\n",
              "    <tr style=\"text-align: right;\">\n",
              "      <th></th>\n",
              "      <th>pred_0</th>\n",
              "      <th>pred_1</th>\n",
              "      <th>pred_2</th>\n",
              "      <th>pred_3</th>\n",
              "      <th>pred_4</th>\n",
              "      <th>pred_5</th>\n",
              "      <th>pred_6</th>\n",
              "      <th>pred_7</th>\n",
              "      <th>pred_8</th>\n",
              "      <th>pred_9</th>\n",
              "    </tr>\n",
              "  </thead>\n",
              "  <tbody>\n",
              "    <tr>\n",
              "      <th>true_0</th>\n",
              "      <td>970</td>\n",
              "      <td>0</td>\n",
              "      <td>0</td>\n",
              "      <td>1</td>\n",
              "      <td>1</td>\n",
              "      <td>0</td>\n",
              "      <td>3</td>\n",
              "      <td>3</td>\n",
              "      <td>0</td>\n",
              "      <td>2</td>\n",
              "    </tr>\n",
              "    <tr>\n",
              "      <th>true_1</th>\n",
              "      <td>0</td>\n",
              "      <td>1123</td>\n",
              "      <td>3</td>\n",
              "      <td>4</td>\n",
              "      <td>0</td>\n",
              "      <td>0</td>\n",
              "      <td>1</td>\n",
              "      <td>1</td>\n",
              "      <td>3</td>\n",
              "      <td>0</td>\n",
              "    </tr>\n",
              "    <tr>\n",
              "      <th>true_2</th>\n",
              "      <td>3</td>\n",
              "      <td>0</td>\n",
              "      <td>1007</td>\n",
              "      <td>8</td>\n",
              "      <td>1</td>\n",
              "      <td>0</td>\n",
              "      <td>1</td>\n",
              "      <td>5</td>\n",
              "      <td>7</td>\n",
              "      <td>0</td>\n",
              "    </tr>\n",
              "    <tr>\n",
              "      <th>true_3</th>\n",
              "      <td>0</td>\n",
              "      <td>0</td>\n",
              "      <td>0</td>\n",
              "      <td>998</td>\n",
              "      <td>0</td>\n",
              "      <td>4</td>\n",
              "      <td>0</td>\n",
              "      <td>4</td>\n",
              "      <td>1</td>\n",
              "      <td>3</td>\n",
              "    </tr>\n",
              "    <tr>\n",
              "      <th>true_4</th>\n",
              "      <td>1</td>\n",
              "      <td>2</td>\n",
              "      <td>4</td>\n",
              "      <td>0</td>\n",
              "      <td>962</td>\n",
              "      <td>0</td>\n",
              "      <td>5</td>\n",
              "      <td>1</td>\n",
              "      <td>0</td>\n",
              "      <td>7</td>\n",
              "    </tr>\n",
              "    <tr>\n",
              "      <th>true_5</th>\n",
              "      <td>3</td>\n",
              "      <td>0</td>\n",
              "      <td>0</td>\n",
              "      <td>17</td>\n",
              "      <td>3</td>\n",
              "      <td>853</td>\n",
              "      <td>11</td>\n",
              "      <td>2</td>\n",
              "      <td>2</td>\n",
              "      <td>1</td>\n",
              "    </tr>\n",
              "    <tr>\n",
              "      <th>true_6</th>\n",
              "      <td>7</td>\n",
              "      <td>3</td>\n",
              "      <td>1</td>\n",
              "      <td>1</td>\n",
              "      <td>1</td>\n",
              "      <td>1</td>\n",
              "      <td>942</td>\n",
              "      <td>0</td>\n",
              "      <td>2</td>\n",
              "      <td>0</td>\n",
              "    </tr>\n",
              "    <tr>\n",
              "      <th>true_7</th>\n",
              "      <td>1</td>\n",
              "      <td>3</td>\n",
              "      <td>12</td>\n",
              "      <td>7</td>\n",
              "      <td>0</td>\n",
              "      <td>0</td>\n",
              "      <td>0</td>\n",
              "      <td>998</td>\n",
              "      <td>0</td>\n",
              "      <td>7</td>\n",
              "    </tr>\n",
              "    <tr>\n",
              "      <th>true_8</th>\n",
              "      <td>0</td>\n",
              "      <td>2</td>\n",
              "      <td>3</td>\n",
              "      <td>9</td>\n",
              "      <td>3</td>\n",
              "      <td>5</td>\n",
              "      <td>9</td>\n",
              "      <td>4</td>\n",
              "      <td>934</td>\n",
              "      <td>5</td>\n",
              "    </tr>\n",
              "    <tr>\n",
              "      <th>true_9</th>\n",
              "      <td>4</td>\n",
              "      <td>3</td>\n",
              "      <td>0</td>\n",
              "      <td>8</td>\n",
              "      <td>6</td>\n",
              "      <td>1</td>\n",
              "      <td>0</td>\n",
              "      <td>6</td>\n",
              "      <td>2</td>\n",
              "      <td>979</td>\n",
              "    </tr>\n",
              "  </tbody>\n",
              "</table>\n",
              "</div>\n",
              "      <button class=\"colab-df-convert\" onclick=\"convertToInteractive('df-1ae3bf59-1bc2-4411-b481-916e1e182bd6')\"\n",
              "              title=\"Convert this dataframe to an interactive table.\"\n",
              "              style=\"display:none;\">\n",
              "        \n",
              "  <svg xmlns=\"http://www.w3.org/2000/svg\" height=\"24px\"viewBox=\"0 0 24 24\"\n",
              "       width=\"24px\">\n",
              "    <path d=\"M0 0h24v24H0V0z\" fill=\"none\"/>\n",
              "    <path d=\"M18.56 5.44l.94 2.06.94-2.06 2.06-.94-2.06-.94-.94-2.06-.94 2.06-2.06.94zm-11 1L8.5 8.5l.94-2.06 2.06-.94-2.06-.94L8.5 2.5l-.94 2.06-2.06.94zm10 10l.94 2.06.94-2.06 2.06-.94-2.06-.94-.94-2.06-.94 2.06-2.06.94z\"/><path d=\"M17.41 7.96l-1.37-1.37c-.4-.4-.92-.59-1.43-.59-.52 0-1.04.2-1.43.59L10.3 9.45l-7.72 7.72c-.78.78-.78 2.05 0 2.83L4 21.41c.39.39.9.59 1.41.59.51 0 1.02-.2 1.41-.59l7.78-7.78 2.81-2.81c.8-.78.8-2.07 0-2.86zM5.41 20L4 18.59l7.72-7.72 1.47 1.35L5.41 20z\"/>\n",
              "  </svg>\n",
              "      </button>\n",
              "      \n",
              "  <style>\n",
              "    .colab-df-container {\n",
              "      display:flex;\n",
              "      flex-wrap:wrap;\n",
              "      gap: 12px;\n",
              "    }\n",
              "\n",
              "    .colab-df-convert {\n",
              "      background-color: #E8F0FE;\n",
              "      border: none;\n",
              "      border-radius: 50%;\n",
              "      cursor: pointer;\n",
              "      display: none;\n",
              "      fill: #1967D2;\n",
              "      height: 32px;\n",
              "      padding: 0 0 0 0;\n",
              "      width: 32px;\n",
              "    }\n",
              "\n",
              "    .colab-df-convert:hover {\n",
              "      background-color: #E2EBFA;\n",
              "      box-shadow: 0px 1px 2px rgba(60, 64, 67, 0.3), 0px 1px 3px 1px rgba(60, 64, 67, 0.15);\n",
              "      fill: #174EA6;\n",
              "    }\n",
              "\n",
              "    [theme=dark] .colab-df-convert {\n",
              "      background-color: #3B4455;\n",
              "      fill: #D2E3FC;\n",
              "    }\n",
              "\n",
              "    [theme=dark] .colab-df-convert:hover {\n",
              "      background-color: #434B5C;\n",
              "      box-shadow: 0px 1px 3px 1px rgba(0, 0, 0, 0.15);\n",
              "      filter: drop-shadow(0px 1px 2px rgba(0, 0, 0, 0.3));\n",
              "      fill: #FFFFFF;\n",
              "    }\n",
              "  </style>\n",
              "\n",
              "      <script>\n",
              "        const buttonEl =\n",
              "          document.querySelector('#df-1ae3bf59-1bc2-4411-b481-916e1e182bd6 button.colab-df-convert');\n",
              "        buttonEl.style.display =\n",
              "          google.colab.kernel.accessAllowed ? 'block' : 'none';\n",
              "\n",
              "        async function convertToInteractive(key) {\n",
              "          const element = document.querySelector('#df-1ae3bf59-1bc2-4411-b481-916e1e182bd6');\n",
              "          const dataTable =\n",
              "            await google.colab.kernel.invokeFunction('convertToInteractive',\n",
              "                                                     [key], {});\n",
              "          if (!dataTable) return;\n",
              "\n",
              "          const docLinkHtml = 'Like what you see? Visit the ' +\n",
              "            '<a target=\"_blank\" href=https://colab.research.google.com/notebooks/data_table.ipynb>data table notebook</a>'\n",
              "            + ' to learn more about interactive tables.';\n",
              "          element.innerHTML = '';\n",
              "          dataTable['output_type'] = 'display_data';\n",
              "          await google.colab.output.renderOutput(dataTable, element);\n",
              "          const docLink = document.createElement('div');\n",
              "          docLink.innerHTML = docLinkHtml;\n",
              "          element.appendChild(docLink);\n",
              "        }\n",
              "      </script>\n",
              "    </div>\n",
              "  </div>\n",
              "  "
            ]
          },
          "metadata": {},
          "execution_count": 22
        }
      ]
    },
    {
      "cell_type": "markdown",
      "source": [
        "## 13.8 마치며\n",
        "\n",
        "### 요약\n",
        "\n",
        "1. 분류 문제 평가 지표\n",
        " - 정밀도 : 모델이 정답이라고 예측한 샘플 중에서 실제 정답의 비율\n",
        " - 재현율 : 실제 정답 중에서 모델이 맞춘 비율\n",
        " - 임계값 설정에 따른 모델의 성격 변화\n",
        " -- 임계값이 높을 때 : 정밀도가 높아지지만 재현율이 내려감\n",
        " -- 임계값이 낮을 때 : 재현율이 높아지지만 정밀도가 내려감\n",
        " - AUROC : ROC 곡선 아래 면적의 넓이, 모델이 강인할수록 수치가 높아진다.\n",
        " - F1 점수\n",
        "\n",
        "2. DNN을 활용한 분류\n",
        " - DNN의 마지막에 소프트맥스 함수를 사용해 분류기로 만든다.\n",
        " - 소프트맥스 : 입력 벡터를 이산 확률 분포 형태의 벡터로 출력\n",
        " - 출력 벡터의 각 차원은 각 클래스별 확률 값이 들어있다.\n",
        " - CE를 손실 함수로 사용하여 학습을 수행\n",
        " - '소프트맥스 + CE'를 사용하는 것은 '로그 소프트맥스 + NLL 손실 함수'를 사용하는 것과 같다.\n",
        "\n",
        "3. DNN을 할용한 분류 수식 (위에 수식 정리한 내용 참고)\n",
        "\n",
        "4. 각 문제들을 다른 형태의 타깃 값을 문제에 따라 각기 다른 손실 함수와 마지막 계층의 활성 함수를 활용해야 한다.\n",
        "\n",
        "|문제|타깃 값|마지막 계층의 활성 함수|손실 함수|예제|\n",
        "|-|-|-|-|-|\n",
        "|회귀|연속형 벡터|없음|MSE|주어진 신상 정보를 바탕으로 연봉 예측|\n",
        "|이진 분류|0 or 1|시그모이드|BCE|주어진 신상 정보를 바탕으로 성별 예측|\n",
        "|분류|카테고리 or 이산 값|소프트맥스|CE|주어진 신상 정보를 바탕으로 직업군 예측|"
      ],
      "metadata": {
        "id": "lJDsXaFbZGGD"
      }
    }
  ]
}